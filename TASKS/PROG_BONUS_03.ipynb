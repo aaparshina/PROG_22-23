{
 "cells": [
  {
   "cell_type": "markdown",
   "id": "9cc86aea",
   "metadata": {},
   "source": [
    "# Программирование на Python \n",
    "\n",
    "# Бонусное задание. Работа с `pandas`.\n",
    "\n",
    "Выполнение задания может принести вам бонусный балл $\\in [0, 1]$ к итоговой средней оценке за самостоятельные работы. Задание представляет собой набор критериев, которые необходимо выполнить для корректной работы кода. \n",
    "\n",
    "Можете скачать этот блокнот и делать все в нем. Инструкция по скачиванию доступна [по ссылке](https://sphenoid-aluminum-1ba.notion.site/GitHub-c162a78de4584915b9433995e5c26758)\n",
    "\n",
    "*Автор: Паршина Анастасия, НИУ ВШЭ (tg: @aaparshina)*"
   ]
  },
  {
   "cell_type": "markdown",
   "id": "0ec17d97",
   "metadata": {},
   "source": [
    "[Источник данных - Kaggle](https://www.kaggle.com/datasets/shawkyelgendy/furniture-price-prediction)\n",
    "\n",
    "Данные содержат следующие признаки:\n",
    "\n",
    "* `Furniture` - Описание мебели\n",
    "* `Type` - Категория, к которой относится мебель\n",
    "* `Url` - Ссылка на товар (ее, конечно, можно посмотреть, но только с vpn)\n",
    "* `Rate` - Оценка товара (0 — значит, что оценок нет)\n",
    "* `Delivery` - Цена доставки на дом\n",
    "* `Sale` - Размер скидки\n",
    "* `Price` - Цена мебели\n",
    "\n",
    "**Каждую ячейку сопроводите своими комментариями, о том, какую функцию/метод используете и почему.**\n",
    "\n",
    "**Исходные данные меняйте только при создании новых признаков. Если нужно что-то удалить/отфильтровать, то можно создавать новые датафреймы.**"
   ]
  },
  {
   "cell_type": "markdown",
   "id": "0fc0faef",
   "metadata": {},
   "source": [
    "**1. Самостоятельно скачайте и загрузите данные.**"
   ]
  },
  {
   "cell_type": "code",
   "execution_count": null,
   "id": "cf5edeec",
   "metadata": {},
   "outputs": [],
   "source": [
    "# ╰( ͡° ͜ʖ ͡° )つ──☆*:・ﾟ"
   ]
  },
  {
   "cell_type": "markdown",
   "id": "91209ee8",
   "metadata": {},
   "source": [
    "**2. Какие категории мебели есть в данных? Сколько их?**"
   ]
  },
  {
   "cell_type": "code",
   "execution_count": null,
   "id": "d4d6e1cb",
   "metadata": {},
   "outputs": [],
   "source": [
    "# ╰( ͡° ͜ʖ ͡° )つ──☆*:・ﾟ"
   ]
  },
  {
   "cell_type": "markdown",
   "id": "ffd432a1",
   "metadata": {},
   "source": [
    "**3. У каких товаров максимальная/минимальная цена доставки?**"
   ]
  },
  {
   "cell_type": "code",
   "execution_count": null,
   "id": "07f4f048",
   "metadata": {},
   "outputs": [],
   "source": [
    "# ╰( ͡° ͜ʖ ͡° )つ──☆*:・ﾟ"
   ]
  },
  {
   "cell_type": "markdown",
   "id": "d6919620",
   "metadata": {},
   "source": [
    "**4. Создайте новый признак, принимающий значение 0 (скидка на товар менее 50%) или 1 (в обратном случае). Сколько товаров в каждой категории?**"
   ]
  },
  {
   "cell_type": "code",
   "execution_count": null,
   "id": "266828b6",
   "metadata": {},
   "outputs": [],
   "source": [
    "# ╰( ͡° ͜ʖ ͡° )つ──☆*:・ﾟ"
   ]
  },
  {
   "cell_type": "markdown",
   "id": "af14e4b2",
   "metadata": {},
   "source": [
    "**5. В осписании скольких товаров встречается слово \"TV\" (в любом регистре)? Посмотрите именно на уникальные товары.**"
   ]
  },
  {
   "cell_type": "code",
   "execution_count": null,
   "id": "a7d705e2",
   "metadata": {},
   "outputs": [],
   "source": [
    "# ╰( ͡° ͜ʖ ͡° )つ──☆*:・ﾟ"
   ]
  },
  {
   "cell_type": "markdown",
   "id": "75d56266",
   "metadata": {},
   "source": [
    "**6. Посмотрите только на те товары, у которых есть рейтинг. Посчитайте средний рейтинг по каждой категории мебели.**"
   ]
  },
  {
   "cell_type": "code",
   "execution_count": null,
   "id": "2336922c",
   "metadata": {},
   "outputs": [],
   "source": [
    "# ╰( ͡° ͜ʖ ͡° )つ──☆*:・ﾟ"
   ]
  },
  {
   "cell_type": "markdown",
   "id": "a755679e",
   "metadata": {},
   "source": [
    "**7. Есть ли взаимосвязь между ценой доставки и ценой товара? Какая она?**"
   ]
  },
  {
   "cell_type": "code",
   "execution_count": null,
   "id": "ae9511c6",
   "metadata": {},
   "outputs": [],
   "source": [
    "# ╰( ͡° ͜ʖ ͡° )つ──☆*:・ﾟ"
   ]
  },
  {
   "cell_type": "markdown",
   "id": "7879606d",
   "metadata": {},
   "source": [
    "**8. Есть ли выбросы в цене товара? Сколько их?**\n",
    "\n",
    "**Посчитайте среднее по цене до удаления выбросов и после. Как оно изменилось?**"
   ]
  },
  {
   "cell_type": "code",
   "execution_count": null,
   "id": "b0c06f42",
   "metadata": {},
   "outputs": [],
   "source": [
    "# ╰( ͡° ͜ʖ ͡° )つ──☆*:・ﾟ"
   ]
  },
  {
   "cell_type": "markdown",
   "id": "bb466ad0",
   "metadata": {},
   "source": [
    "**9. Сколько всего раз в данных встречалось слово home (в любом регистре)?**"
   ]
  },
  {
   "cell_type": "code",
   "execution_count": null,
   "id": "d3f4971a",
   "metadata": {},
   "outputs": [],
   "source": [
    "# ╰( ͡° ͜ʖ ͡° )つ──☆*:・ﾟ"
   ]
  },
  {
   "cell_type": "markdown",
   "id": "34b40d6a",
   "metadata": {},
   "source": [
    "**10. Какова средняя цена на столы (table)?**"
   ]
  },
  {
   "cell_type": "code",
   "execution_count": null,
   "id": "54604efe",
   "metadata": {},
   "outputs": [],
   "source": [
    "# ╰( ͡° ͜ʖ ͡° )つ──☆*:・ﾟ"
   ]
  },
  {
   "cell_type": "markdown",
   "id": "1ebdfdc8",
   "metadata": {},
   "source": [
    "**11. Создайте признак для цены товара уже со скидкой на него + доставкой. Сколько в таком случае будет со скидкой и доставкой стоить `Home Gallery TV unit made of natural wood, beige`?**"
   ]
  },
  {
   "cell_type": "code",
   "execution_count": null,
   "id": "7dba936a",
   "metadata": {},
   "outputs": [],
   "source": [
    "# ╰( ͡° ͜ʖ ͡° )つ──☆*:・ﾟ"
   ]
  },
  {
   "cell_type": "markdown",
   "id": "3d266448",
   "metadata": {},
   "source": [
    "**12. Создайте признак для цены товара — низкая, средняя, высокая (границы определите сами). Сгруппируйте данные по категории мебели и цене (новому признаку), посчитайте среднюю цену доставки. Выведите результат в виде таблицы.**"
   ]
  },
  {
   "cell_type": "code",
   "execution_count": null,
   "id": "654f70bb",
   "metadata": {},
   "outputs": [],
   "source": [
    "# ╰( ͡° ͜ʖ ͡° )つ──☆*:・ﾟ"
   ]
  },
  {
   "cell_type": "markdown",
   "id": "bdb968f9",
   "metadata": {},
   "source": [
    "**13. У какого товара 1) максимальная скидка, 2) максимальная цена доставки?**"
   ]
  },
  {
   "cell_type": "code",
   "execution_count": null,
   "id": "62c4bb33",
   "metadata": {},
   "outputs": [],
   "source": [
    "# ╰( ͡° ͜ʖ ͡° )つ──☆*:・ﾟ"
   ]
  },
  {
   "cell_type": "markdown",
   "id": "d26d4778",
   "metadata": {},
   "source": [
    "**14*. Какая категория мебели самая дорогая?**"
   ]
  },
  {
   "cell_type": "code",
   "execution_count": null,
   "id": "34649219",
   "metadata": {},
   "outputs": [],
   "source": [
    "# ╰( ͡° ͜ʖ ͡° )つ──☆*:・ﾟ"
   ]
  },
  {
   "cell_type": "markdown",
   "id": "8bec04e9",
   "metadata": {},
   "source": [
    "**15*. На какую категорию мебели больше всего скидок?**"
   ]
  },
  {
   "cell_type": "code",
   "execution_count": null,
   "id": "b83da7f3",
   "metadata": {},
   "outputs": [],
   "source": [
    "# ╰( ͡° ͜ʖ ͡° )つ──☆*:・ﾟ"
   ]
  }
 ],
 "metadata": {
  "kernelspec": {
   "display_name": "Python 3 (ipykernel)",
   "language": "python",
   "name": "python3"
  },
  "language_info": {
   "codemirror_mode": {
    "name": "ipython",
    "version": 3
   },
   "file_extension": ".py",
   "mimetype": "text/x-python",
   "name": "python",
   "nbconvert_exporter": "python",
   "pygments_lexer": "ipython3",
   "version": "3.9.7"
  }
 },
 "nbformat": 4,
 "nbformat_minor": 5
}
