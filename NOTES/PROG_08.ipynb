{
 "cells": [
  {
   "cell_type": "markdown",
   "metadata": {},
   "source": [
    "# Программирование на Python \n",
    "\n",
    "# Web-scraping: скрэйпинг сайта с книжками\n",
    "\n",
    "*Автор: Паршина Анастасия, НИУ ВШЭ (tg: @aaparshina)*"
   ]
  },
  {
   "cell_type": "code",
   "execution_count": 4,
   "metadata": {},
   "outputs": [],
   "source": [
    "import requests\n",
    "from bs4 import BeautifulSoup \n",
    "from time import sleep\n",
    "import pandas as pd"
   ]
  },
  {
   "cell_type": "markdown",
   "metadata": {},
   "source": [
    "Дана ссылка на первую страницу [каталога книжных новинок](https://www.bgshop.ru/search?query=Python&page=1&sort=0&instock=&isdiscount=). Соберите информацию о книгах с первых пяти страниц. Если присмотреться, то ссылки на страницы выгядят похоже: \n",
    "\n",
    "    https://www.bgshop.ru/search?query=Python&page=1&sort=0&instock=&isdiscount=\n",
    "    https://www.bgshop.ru/search?query=Python&page=2&sort=0&instock=&isdiscount=\n",
    "    https://www.bgshop.ru/search?query=Python&page=3&sort=0&instock=&isdiscount=\n",
    "    \n",
    "Значит, мы можем сгенерировать необходимые ссылки сами. В таком случае чтобы узнать конечную страницу, нужно будет не нее перейти и посмотреть номер. Что, конечно не супер автоматизировано, но так мы точно не ошибемся. "
   ]
  },
  {
   "cell_type": "markdown",
   "metadata": {},
   "source": [
    "Другой вариант действий: в коде страницы есть ссыка на \"Следующую\" страницу. Можно собирать именно их *до тех пор, пока* они не закончатся (тут вам в помощь цикл `while`). Как узнать номер страницы? Посмотреть на ее код!"
   ]
  },
  {
   "cell_type": "code",
   "execution_count": 5,
   "metadata": {},
   "outputs": [
    {
     "data": {
      "text/plain": [
       "<a aria-label=\"Next\" class=\"page-link\" href=\"search?query=Python&amp;page=13&amp;sort=0&amp;instock=&amp;isdiscount=\"><span aria-hidden=\"true\">»»</span><span class=\"sr-only\">Next</span></a>"
      ]
     },
     "execution_count": 5,
     "metadata": {},
     "output_type": "execute_result"
    }
   ],
   "source": [
    "url = 'https://www.bgshop.ru/search?query=Python&page=1&sort=0&instock=&isdiscount='\n",
    "page = requests.get(url)\n",
    "soup = BeautifulSoup(page.text)\n",
    "soup.find_all('a', attrs = {'aria-label': 'Next'})[-1]"
   ]
  },
  {
   "cell_type": "markdown",
   "metadata": {},
   "source": [
    "Это наша последняя страница. Заберем оттуда ссылку:"
   ]
  },
  {
   "cell_type": "code",
   "execution_count": 6,
   "metadata": {},
   "outputs": [
    {
     "name": "stdout",
     "output_type": "stream",
     "text": [
      "13\n"
     ]
    }
   ],
   "source": [
    "num = soup.find_all('a', attrs = {'aria-label': 'Next'})[-1].get('href').split('page=')[1].split('&')[0]\n",
    "print(num)"
   ]
  },
  {
   "cell_type": "code",
   "execution_count": 7,
   "metadata": {},
   "outputs": [
    {
     "data": {
      "text/plain": [
       "['https://www.bgshop.ru/search?query=Python&page=1&sort=0&instock=&isdiscount=',\n",
       " 'https://www.bgshop.ru/search?query=Python&page=2&sort=0&instock=&isdiscount=',\n",
       " 'https://www.bgshop.ru/search?query=Python&page=3&sort=0&instock=&isdiscount=',\n",
       " 'https://www.bgshop.ru/search?query=Python&page=4&sort=0&instock=&isdiscount=',\n",
       " 'https://www.bgshop.ru/search?query=Python&page=5&sort=0&instock=&isdiscount=',\n",
       " 'https://www.bgshop.ru/search?query=Python&page=6&sort=0&instock=&isdiscount=',\n",
       " 'https://www.bgshop.ru/search?query=Python&page=7&sort=0&instock=&isdiscount=',\n",
       " 'https://www.bgshop.ru/search?query=Python&page=8&sort=0&instock=&isdiscount=',\n",
       " 'https://www.bgshop.ru/search?query=Python&page=9&sort=0&instock=&isdiscount=',\n",
       " 'https://www.bgshop.ru/search?query=Python&page=10&sort=0&instock=&isdiscount=',\n",
       " 'https://www.bgshop.ru/search?query=Python&page=11&sort=0&instock=&isdiscount=',\n",
       " 'https://www.bgshop.ru/search?query=Python&page=12&sort=0&instock=&isdiscount=',\n",
       " 'https://www.bgshop.ru/search?query=Python&page=13&sort=0&instock=&isdiscount=']"
      ]
     },
     "execution_count": 7,
     "metadata": {},
     "output_type": "execute_result"
    }
   ],
   "source": [
    "urls = []\n",
    "\n",
    "for i in range(1, int(num) + 1):\n",
    "    urls.append(f'https://www.bgshop.ru/search?query=Python&page={i}&sort=0&instock=&isdiscount=')\n",
    "    \n",
    "urls"
   ]
  },
  {
   "cell_type": "markdown",
   "metadata": {},
   "source": [
    "Разберем все на примере одной страницы. "
   ]
  },
  {
   "cell_type": "code",
   "execution_count": 8,
   "metadata": {},
   "outputs": [],
   "source": [
    "page = requests.get(urls[0])\n",
    "soup = BeautifulSoup(page.text)"
   ]
  },
  {
   "cell_type": "markdown",
   "metadata": {},
   "source": [
    "Заберем ссылки на все книжки на странице. "
   ]
  },
  {
   "cell_type": "code",
   "execution_count": 9,
   "metadata": {},
   "outputs": [
    {
     "data": {
      "text/plain": [
       "['https://www.bgshop.ru/Catalog/GetFullDescription?id=10483871&type=1',\n",
       " 'https://www.bgshop.ru/Catalog/GetFullDescription?id=10499950&type=1',\n",
       " 'https://www.bgshop.ru/Catalog/GetFullDescription?id=10224348&type=1',\n",
       " 'https://www.bgshop.ru/Catalog/GetFullDescription?id=10645085&type=1',\n",
       " 'https://www.bgshop.ru/Catalog/GetFullDescription?id=10627655&type=1',\n",
       " 'https://www.bgshop.ru/Catalog/GetFullDescription?id=10473444&type=1',\n",
       " 'https://www.bgshop.ru/Catalog/GetFullDescription?id=10901801&type=1',\n",
       " 'https://www.bgshop.ru/Catalog/GetFullDescription?id=10891776&type=1',\n",
       " 'https://www.bgshop.ru/Catalog/GetFullDescription?id=10879726&type=1',\n",
       " 'https://www.bgshop.ru/Catalog/GetFullDescription?id=10873807&type=1',\n",
       " 'https://www.bgshop.ru/Catalog/GetFullDescription?id=10865883&type=1',\n",
       " 'https://www.bgshop.ru/Catalog/GetFullDescription?id=10831874&type=1']"
      ]
     },
     "execution_count": 9,
     "metadata": {},
     "output_type": "execute_result"
    }
   ],
   "source": [
    "urls_books = ['https://www.bgshop.ru' + i.get('href') \\\n",
    "              for i in soup.find_all('a', attrs = {'class':'img_link'})]\n",
    "urls_books\n"
   ]
  },
  {
   "cell_type": "markdown",
   "metadata": {},
   "source": [
    "Посмотрим на одну книжку: "
   ]
  },
  {
   "cell_type": "code",
   "execution_count": 10,
   "metadata": {},
   "outputs": [],
   "source": [
    "url0 = urls_books[0]\n",
    "page0 = requests.get(url0)\n",
    "soup0 = BeautifulSoup(page0.text)"
   ]
  },
  {
   "cell_type": "markdown",
   "metadata": {},
   "source": [
    "Найдем основную информацию со страницы"
   ]
  },
  {
   "cell_type": "code",
   "execution_count": 11,
   "metadata": {},
   "outputs": [
    {
     "data": {
      "text/plain": [
       "<div class=\"item-desc\">\n",
       "<div id=\"rating-wrapper\">\n",
       "<div class=\"starrr\" data-target=\"#login-modal\" data-toggle=\"modal\">\n",
       "<a aria-hidden=\"true\" class=\"fa fa-star-o\" href=\"#\"></a>\n",
       "<a aria-hidden=\"true\" class=\"fa fa-star-o\" href=\"#\"></a>\n",
       "<a aria-hidden=\"true\" class=\"fa fa-star-o\" href=\"#\"></a>\n",
       "<a aria-hidden=\"true\" class=\"fa fa-star-o\" href=\"#\"></a>\n",
       "<a aria-hidden=\"true\" class=\"fa fa-star-o\" href=\"#\"></a>\n",
       "</div>\n",
       "</div><span data-target=\"#login-modal\" data-toggle=\"modal\" id=\"vote-qty\">Количество оценок: <span>0</span></span>\n",
       "<div>\n",
       "<span class=\"your-choice-was\" style=\"display: none;\">\n",
       "<span class=\"choice\"></span>\n",
       "</span>\n",
       "</div>\n",
       "<h1 id=\"p_title_10483871\">Глубокое обучение на Python</h1>\n",
       "<p class=\"goToDescription\" style=\"margin-bottom:0;\">\n",
       "<a class=\"scroll-to\" href=\"/Catalog/Search?query=Шолле Ф.&amp;page=1\">\n",
       "Франсуа Шолле            </a>\n",
       "</p>\n",
       "<div style=\"color:#777777; font-size:.8rem; padding:12px 0; display:none;\">Заказали за последний месяц: 1 человек</div>\n",
       "<table class=\"decor2\">\n",
       "<tr>\n",
       "<td class=\"alt\" width=\"45%\"><b>Артикул:</b></td>\n",
       "<td class=\"alt\" width=\"55%\">3039111</td>\n",
       "</tr>\n",
       "<tr>\n",
       "<td class=\"alt\" width=\"45%\"><b>ISBN:</b></td>\n",
       "<td class=\"alt\" width=\"55%\">978-5-4461-0770-4</td>\n",
       "</tr>\n",
       "<tr>\n",
       "<td class=\"alt\" width=\"45%\"><b>Тип переплета:</b></td>\n",
       "<td class=\"alt\" width=\"55%\">мягкий</td>\n",
       "</tr>\n",
       "<tr>\n",
       "<td class=\"alt\" width=\"45%\"><b>Тираж:</b></td>\n",
       "<td class=\"alt\" width=\"55%\">400</td>\n",
       "</tr>\n",
       "<tr>\n",
       "<td class=\"alt\" width=\"45%\"><b>Издатель:</b></td>\n",
       "<td class=\"alt\" width=\"55%\">Питер </td>\n",
       "</tr>\n",
       "<tr>\n",
       "<td class=\"alt\" width=\"45%\"><b>Дата издания:</b></td>\n",
       "<td class=\"alt\" width=\"55%\">2022</td>\n",
       "</tr>\n",
       "<tr>\n",
       "<td class=\"alt\" width=\"45%\"><b>Количество страниц:</b></td>\n",
       "<td class=\"alt\" width=\"55%\">400</td>\n",
       "</tr>\n",
       "</table>\n",
       "</div>"
      ]
     },
     "execution_count": 11,
     "metadata": {},
     "output_type": "execute_result"
    }
   ],
   "source": [
    "all_info = soup0.find('div', attrs = {'class': 'item-desc'})\n",
    "all_info"
   ]
  },
  {
   "cell_type": "markdown",
   "metadata": {},
   "source": [
    "Выше мы ищем тег `div`, при этом уточним, что у этого тега есть атрибут `class` со значением `item-desc`."
   ]
  },
  {
   "cell_type": "code",
   "execution_count": 12,
   "metadata": {},
   "outputs": [
    {
     "data": {
      "text/plain": [
       "'Глубокое обучение на Python'"
      ]
     },
     "execution_count": 12,
     "metadata": {},
     "output_type": "execute_result"
    }
   ],
   "source": [
    "title = all_info.find('h1').text\n",
    "title"
   ]
  },
  {
   "cell_type": "code",
   "execution_count": 13,
   "metadata": {},
   "outputs": [
    {
     "data": {
      "text/plain": [
       "'Франсуа Шолле'"
      ]
     },
     "execution_count": 13,
     "metadata": {},
     "output_type": "execute_result"
    }
   ],
   "source": [
    "author = all_info.find('a', attrs = {'class': 'scroll-to'}).text.strip()\n",
    "author"
   ]
  },
  {
   "cell_type": "markdown",
   "metadata": {},
   "source": [
    "Обратим внимание на статус - \"в наличии\". Кусочек кода выглядит так:\n",
    "\n",
    "    <p class=\"item-status\">в наличии <span style=\"color: #777777; font-size: .8rem; display:none;\">(остаток: 11 шт.)</span></p>\n",
    "    \n",
    "НО! Есть книжки, которых нет в наличии. И у них эта же часть выглядит так: \n",
    "\n",
    "    <p class=\"item-status\"></p>"
   ]
  },
  {
   "cell_type": "code",
   "execution_count": 14,
   "metadata": {},
   "outputs": [
    {
     "data": {
      "text/plain": [
       "'в наличии (остаток: 14 шт.)'"
      ]
     },
     "execution_count": 14,
     "metadata": {},
     "output_type": "execute_result"
    }
   ],
   "source": [
    "status = soup0.find('p', attrs = {'class': 'item-status'}).text\n",
    "status"
   ]
  },
  {
   "cell_type": "markdown",
   "metadata": {},
   "source": [
    "Можно также попробовать вытащить аннотацию."
   ]
  },
  {
   "cell_type": "code",
   "execution_count": 15,
   "metadata": {},
   "outputs": [
    {
     "data": {
      "text/plain": [
       "'Глубокое обучение — Deep learning — это набор алгоритмов машинного обучения, которые моделируют высокоуровневые абстракции в данных, используя архитектуры, состоящие из множества нелинейных преобразований. Согласитесь, эта фраза звучит угрожающе. Но всё не так страшно, если о глубоком обучении рассказывает Франсуа Шолле, который создал Keras — самую мощную библиотеку для работы с нейронными сетями. Познакомьтесь с глубоким обучением на практических примерах из самых разнообразных областей. Книга делится на две части, в первой даны теоретические основы, вторая посвящена решению конкретных задач. Это позволит вам не только разобраться в основах DL, но и научиться использовать новые возможности на практике.\\nОбучение — это путешествие длинной в жизнь, особенно в области искусственного интеллекта, где неизвестностей гораздо больше, чем определенности.'"
      ]
     },
     "execution_count": 15,
     "metadata": {},
     "output_type": "execute_result"
    }
   ],
   "source": [
    "ann = soup0.find('div', attrs = {'id' : 'collapseExample'}).text.split('\\n')\n",
    "ann = '\\n'.join([a.strip('• \\r') for a in ann if len(a) > 100])\n",
    "ann"
   ]
  },
  {
   "cell_type": "markdown",
   "metadata": {},
   "source": [
    "И цену книжки:\n",
    "    "
   ]
  },
  {
   "cell_type": "code",
   "execution_count": 16,
   "metadata": {},
   "outputs": [
    {
     "data": {
      "text/plain": [
       "1739.0"
      ]
     },
     "execution_count": 16,
     "metadata": {},
     "output_type": "execute_result"
    }
   ],
   "source": [
    "price = float(soup0.find('div', attrs = {'id': 'price'}).text.split()[-2].replace(',', '.'))\n",
    "price"
   ]
  },
  {
   "cell_type": "markdown",
   "metadata": {},
   "source": [
    "Сделаем функцию для обработки каждой страницы"
   ]
  },
  {
   "cell_type": "code",
   "execution_count": 17,
   "metadata": {},
   "outputs": [],
   "source": [
    "def GetBookInfo(url0):\n",
    "    page0 = requests.get(url0)\n",
    "    soup0 = BeautifulSoup(page0.text)\n",
    "    all_info = soup0.find('div', attrs = {'class': 'item-desc'})\n",
    "    \n",
    "    title = all_info.find('h1').text \n",
    "    \n",
    "    author = all_info.find('a', attrs = {'class': 'scroll-to'}).text.strip()\n",
    "    \n",
    "    status = soup0.find('p', attrs = {'class': 'item-status'}).text\n",
    "\n",
    "    ann = soup0.find('div', attrs = {'id' : 'collapseExample'}).text.split('\\n')\n",
    "    ann = '\\n'.join([a.strip('• \\r') for a in ann if len(a) > 100])\n",
    "    \n",
    "    price = float(soup0.find('div', attrs = {'id': 'price'}).text.split()[-2].replace(',', '.'))\n",
    "\n",
    "        \n",
    "    return url0, title, author, status, ann, price"
   ]
  },
  {
   "cell_type": "code",
   "execution_count": 18,
   "metadata": {},
   "outputs": [
    {
     "data": {
      "text/plain": [
       "('https://www.bgshop.ru/Catalog/GetFullDescription?id=10483871&type=1',\n",
       " 'Глубокое обучение на Python',\n",
       " 'Франсуа Шолле',\n",
       " 'в наличии (остаток: 14 шт.)',\n",
       " 'Глубокое обучение — Deep learning — это набор алгоритмов машинного обучения, которые моделируют высокоуровневые абстракции в данных, используя архитектуры, состоящие из множества нелинейных преобразований. Согласитесь, эта фраза звучит угрожающе. Но всё не так страшно, если о глубоком обучении рассказывает Франсуа Шолле, который создал Keras — самую мощную библиотеку для работы с нейронными сетями. Познакомьтесь с глубоким обучением на практических примерах из самых разнообразных областей. Книга делится на две части, в первой даны теоретические основы, вторая посвящена решению конкретных задач. Это позволит вам не только разобраться в основах DL, но и научиться использовать новые возможности на практике.\\nОбучение — это путешествие длинной в жизнь, особенно в области искусственного интеллекта, где неизвестностей гораздо больше, чем определенности.',\n",
       " 1739.0)"
      ]
     },
     "execution_count": 18,
     "metadata": {},
     "output_type": "execute_result"
    }
   ],
   "source": [
    "GetBookInfo(url0)"
   ]
  },
  {
   "cell_type": "markdown",
   "metadata": {},
   "source": [
    "Пробуем нашу функцию применить. "
   ]
  },
  {
   "cell_type": "code",
   "execution_count": 19,
   "metadata": {},
   "outputs": [
    {
     "name": "stdout",
     "output_type": "stream",
     "text": [
      "https://www.bgshop.ru/Catalog/GetFullDescription?id=10483871&type=1\n",
      "https://www.bgshop.ru/Catalog/GetFullDescription?id=10499950&type=1\n",
      "https://www.bgshop.ru/Catalog/GetFullDescription?id=10224348&type=1\n",
      "https://www.bgshop.ru/Catalog/GetFullDescription?id=10645085&type=1\n",
      "https://www.bgshop.ru/Catalog/GetFullDescription?id=10627655&type=1\n",
      "https://www.bgshop.ru/Catalog/GetFullDescription?id=10473444&type=1\n",
      "https://www.bgshop.ru/Catalog/GetFullDescription?id=10901801&type=1\n",
      "https://www.bgshop.ru/Catalog/GetFullDescription?id=10891776&type=1\n",
      "https://www.bgshop.ru/Catalog/GetFullDescription?id=10879726&type=1\n",
      "https://www.bgshop.ru/Catalog/GetFullDescription?id=10873807&type=1\n",
      "https://www.bgshop.ru/Catalog/GetFullDescription?id=10865883&type=1\n",
      "https://www.bgshop.ru/Catalog/GetFullDescription?id=10831874&type=1\n",
      "https://www.bgshop.ru/Catalog/GetFullDescription?id=10483871&type=1\n",
      "https://www.bgshop.ru/Catalog/GetFullDescription?id=10499950&type=1\n",
      "https://www.bgshop.ru/Catalog/GetFullDescription?id=10224348&type=1\n",
      "https://www.bgshop.ru/Catalog/GetFullDescription?id=10645085&type=1\n",
      "https://www.bgshop.ru/Catalog/GetFullDescription?id=10627655&type=1\n",
      "https://www.bgshop.ru/Catalog/GetFullDescription?id=10473444&type=1\n",
      "https://www.bgshop.ru/Catalog/GetFullDescription?id=10901801&type=1\n",
      "https://www.bgshop.ru/Catalog/GetFullDescription?id=10891776&type=1\n",
      "https://www.bgshop.ru/Catalog/GetFullDescription?id=10879726&type=1\n",
      "https://www.bgshop.ru/Catalog/GetFullDescription?id=10873807&type=1\n",
      "https://www.bgshop.ru/Catalog/GetFullDescription?id=10865883&type=1\n",
      "https://www.bgshop.ru/Catalog/GetFullDescription?id=10831874&type=1\n",
      "https://www.bgshop.ru/Catalog/GetFullDescription?id=10483871&type=1\n",
      "https://www.bgshop.ru/Catalog/GetFullDescription?id=10499950&type=1\n",
      "https://www.bgshop.ru/Catalog/GetFullDescription?id=10224348&type=1\n",
      "https://www.bgshop.ru/Catalog/GetFullDescription?id=10645085&type=1\n",
      "https://www.bgshop.ru/Catalog/GetFullDescription?id=10627655&type=1\n",
      "https://www.bgshop.ru/Catalog/GetFullDescription?id=10473444&type=1\n",
      "https://www.bgshop.ru/Catalog/GetFullDescription?id=10901801&type=1\n",
      "https://www.bgshop.ru/Catalog/GetFullDescription?id=10891776&type=1\n",
      "https://www.bgshop.ru/Catalog/GetFullDescription?id=10879726&type=1\n",
      "https://www.bgshop.ru/Catalog/GetFullDescription?id=10873807&type=1\n",
      "https://www.bgshop.ru/Catalog/GetFullDescription?id=10865883&type=1\n",
      "https://www.bgshop.ru/Catalog/GetFullDescription?id=10831874&type=1\n",
      "https://www.bgshop.ru/Catalog/GetFullDescription?id=10483871&type=1\n",
      "https://www.bgshop.ru/Catalog/GetFullDescription?id=10499950&type=1\n",
      "https://www.bgshop.ru/Catalog/GetFullDescription?id=10224348&type=1\n",
      "https://www.bgshop.ru/Catalog/GetFullDescription?id=10645085&type=1\n",
      "https://www.bgshop.ru/Catalog/GetFullDescription?id=10627655&type=1\n",
      "https://www.bgshop.ru/Catalog/GetFullDescription?id=10473444&type=1\n",
      "https://www.bgshop.ru/Catalog/GetFullDescription?id=10901801&type=1\n",
      "https://www.bgshop.ru/Catalog/GetFullDescription?id=10891776&type=1\n",
      "https://www.bgshop.ru/Catalog/GetFullDescription?id=10879726&type=1\n",
      "https://www.bgshop.ru/Catalog/GetFullDescription?id=10873807&type=1\n",
      "https://www.bgshop.ru/Catalog/GetFullDescription?id=10865883&type=1\n",
      "https://www.bgshop.ru/Catalog/GetFullDescription?id=10831874&type=1\n",
      "https://www.bgshop.ru/Catalog/GetFullDescription?id=10483871&type=1\n",
      "https://www.bgshop.ru/Catalog/GetFullDescription?id=10499950&type=1\n",
      "https://www.bgshop.ru/Catalog/GetFullDescription?id=10224348&type=1\n",
      "https://www.bgshop.ru/Catalog/GetFullDescription?id=10645085&type=1\n",
      "https://www.bgshop.ru/Catalog/GetFullDescription?id=10627655&type=1\n",
      "https://www.bgshop.ru/Catalog/GetFullDescription?id=10473444&type=1\n",
      "https://www.bgshop.ru/Catalog/GetFullDescription?id=10901801&type=1\n",
      "https://www.bgshop.ru/Catalog/GetFullDescription?id=10891776&type=1\n",
      "https://www.bgshop.ru/Catalog/GetFullDescription?id=10879726&type=1\n",
      "https://www.bgshop.ru/Catalog/GetFullDescription?id=10873807&type=1\n",
      "https://www.bgshop.ru/Catalog/GetFullDescription?id=10865883&type=1\n",
      "https://www.bgshop.ru/Catalog/GetFullDescription?id=10831874&type=1\n"
     ]
    }
   ],
   "source": [
    "books = []\n",
    "for u in urls[:5]:\n",
    "    page0 = requests.get(u)\n",
    "    soup0 = BeautifulSoup(page0.text)\n",
    "    sleep(1)\n",
    "    \n",
    "    # если вы были на паре, то помните, что тут было проще —\n",
    "    # просто я хотела 1) напомнить, что можно использовать списковые включения; \n",
    "    # 2) про перенос кода с помощью \\\n",
    "    \n",
    "    urls_books = ['https://www.bgshop.ru' + i.get('href') \\\n",
    "              for i in soup.find_all('a', attrs = {'class':'img_link'})]\n",
    "    \n",
    "    for i in urls_books:\n",
    "        print(i) # печатаем ссылки, что просто понимать, что у нас ничего не сломалось и все работает \n",
    "        res = GetBookInfo(i)\n",
    "        books.append(res)\n",
    "        sleep(1)"
   ]
  },
  {
   "cell_type": "code",
   "execution_count": 20,
   "metadata": {},
   "outputs": [
    {
     "data": {
      "text/html": [
       "<div>\n",
       "<style scoped>\n",
       "    .dataframe tbody tr th:only-of-type {\n",
       "        vertical-align: middle;\n",
       "    }\n",
       "\n",
       "    .dataframe tbody tr th {\n",
       "        vertical-align: top;\n",
       "    }\n",
       "\n",
       "    .dataframe thead th {\n",
       "        text-align: right;\n",
       "    }\n",
       "</style>\n",
       "<table border=\"1\" class=\"dataframe\">\n",
       "  <thead>\n",
       "    <tr style=\"text-align: right;\">\n",
       "      <th></th>\n",
       "      <th>url</th>\n",
       "      <th>title</th>\n",
       "      <th>author</th>\n",
       "      <th>status</th>\n",
       "      <th>ann</th>\n",
       "      <th>price</th>\n",
       "    </tr>\n",
       "  </thead>\n",
       "  <tbody>\n",
       "    <tr>\n",
       "      <th>0</th>\n",
       "      <td>https://www.bgshop.ru/Catalog/GetFullDescripti...</td>\n",
       "      <td>Глубокое обучение на Python</td>\n",
       "      <td>Франсуа Шолле</td>\n",
       "      <td>в наличии (остаток: 14 шт.)</td>\n",
       "      <td>Глубокое обучение — Deep learning — это набор ...</td>\n",
       "      <td>1739.0</td>\n",
       "    </tr>\n",
       "    <tr>\n",
       "      <th>1</th>\n",
       "      <td>https://www.bgshop.ru/Catalog/GetFullDescripti...</td>\n",
       "      <td>Чистый Python. Тонкости программирования для п...</td>\n",
       "      <td>Дэн Бейдер</td>\n",
       "      <td>в наличии (остаток: 11 шт.)</td>\n",
       "      <td>Изучение всех возможностей Python — сложная за...</td>\n",
       "      <td>1529.0</td>\n",
       "    </tr>\n",
       "    <tr>\n",
       "      <th>2</th>\n",
       "      <td>https://www.bgshop.ru/Catalog/GetFullDescripti...</td>\n",
       "      <td>Программирование на Python для начинающих</td>\n",
       "      <td>Майк МакГрат</td>\n",
       "      <td>в наличии (остаток: 15 шт.)</td>\n",
       "      <td>Книга \"Программирование на  Python для начинаю...</td>\n",
       "      <td>849.0</td>\n",
       "    </tr>\n",
       "    <tr>\n",
       "      <th>3</th>\n",
       "      <td>https://www.bgshop.ru/Catalog/GetFullDescripti...</td>\n",
       "      <td>Легкий способ выучить Python 3 еще глубже</td>\n",
       "      <td>Зед Шоу</td>\n",
       "      <td>в наличии (остаток: 11 шт.)</td>\n",
       "      <td>Зед Шоу – один из тех, кто по-настоящему разби...</td>\n",
       "      <td>1029.0</td>\n",
       "    </tr>\n",
       "  </tbody>\n",
       "</table>\n",
       "</div>"
      ],
      "text/plain": [
       "                                                 url  \\\n",
       "0  https://www.bgshop.ru/Catalog/GetFullDescripti...   \n",
       "1  https://www.bgshop.ru/Catalog/GetFullDescripti...   \n",
       "2  https://www.bgshop.ru/Catalog/GetFullDescripti...   \n",
       "3  https://www.bgshop.ru/Catalog/GetFullDescripti...   \n",
       "\n",
       "                                               title         author  \\\n",
       "0                        Глубокое обучение на Python  Франсуа Шолле   \n",
       "1  Чистый Python. Тонкости программирования для п...     Дэн Бейдер   \n",
       "2          Программирование на Python для начинающих   Майк МакГрат   \n",
       "3          Легкий способ выучить Python 3 еще глубже        Зед Шоу   \n",
       "\n",
       "                        status  \\\n",
       "0  в наличии (остаток: 14 шт.)   \n",
       "1  в наличии (остаток: 11 шт.)   \n",
       "2  в наличии (остаток: 15 шт.)   \n",
       "3  в наличии (остаток: 11 шт.)   \n",
       "\n",
       "                                                 ann   price  \n",
       "0  Глубокое обучение — Deep learning — это набор ...  1739.0  \n",
       "1  Изучение всех возможностей Python — сложная за...  1529.0  \n",
       "2  Книга \"Программирование на  Python для начинаю...   849.0  \n",
       "3  Зед Шоу – один из тех, кто по-настоящему разби...  1029.0  "
      ]
     },
     "execution_count": 20,
     "metadata": {},
     "output_type": "execute_result"
    }
   ],
   "source": [
    "df = pd.DataFrame(books)\n",
    "df.columns = ['url', 'title', 'author', 'status', 'ann', 'price']\n",
    "df.head(4)"
   ]
  },
  {
   "cell_type": "code",
   "execution_count": 21,
   "metadata": {},
   "outputs": [],
   "source": [
    "df.to_csv('books.csv')"
   ]
  }
 ],
 "metadata": {
  "kernelspec": {
   "display_name": "Python 3 (ipykernel)",
   "language": "python",
   "name": "python3"
  },
  "language_info": {
   "codemirror_mode": {
    "name": "ipython",
    "version": 3
   },
   "file_extension": ".py",
   "mimetype": "text/x-python",
   "name": "python",
   "nbconvert_exporter": "python",
   "pygments_lexer": "ipython3",
   "version": "3.9.7"
  }
 },
 "nbformat": 4,
 "nbformat_minor": 2
}
