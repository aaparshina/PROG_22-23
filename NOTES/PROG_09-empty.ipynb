{
 "cells": [
  {
   "cell_type": "markdown",
   "id": "36bff9a9",
   "metadata": {},
   "source": [
    "# Программирование на Python \n",
    "\n",
    "# Работа с таблицами — `pandas` \n",
    "\n",
    "*Автор: Паршина Анастасия, НИУ ВШЭ (tg: @aaparshina)*\n",
    "\n",
    "[Источник данных - Kaggle](https://www.kaggle.com/datasets/narayan63/netflix-popular-movies-dataset)\n",
    "\n",
    "Данные содержат следующие признаки:\n",
    "\n",
    "* `title` - Название фильма\n",
    "* `year` - Год выпуска фильма\n",
    "* `certificate` - Возрастное ограничение\n",
    "* `duration` - Длительность\n",
    "* `genre` - Жанр фильма\n",
    "* `rating` - Рейтиг фильма\n",
    "* `description` - Описание\n",
    "* `stars` - Актеры\n",
    "* `votes` - Количество оценок фильма"
   ]
  },
  {
   "cell_type": "markdown",
   "id": "0bfbf683",
   "metadata": {},
   "source": [
    "## Часть 1. Работа с данными — фильтрация, сортировка, группировка, создание новых признаков"
   ]
  },
  {
   "cell_type": "markdown",
   "id": "0cf6c373",
   "metadata": {},
   "source": [
    "**1. Сколько всего уникальных фильмов в данных? Сколько всего фильмов с рейтингом выше 7.5?**"
   ]
  },
  {
   "cell_type": "code",
   "execution_count": null,
   "id": "e66fb2f6",
   "metadata": {},
   "outputs": [],
   "source": [
    "# ╰( ͡° ͜ʖ ͡° )つ──☆*:・ﾟ"
   ]
  },
  {
   "cell_type": "markdown",
   "id": "38ad0eb3",
   "metadata": {},
   "source": [
    "**2. Выберите фильмы с самым часто встречающимся возрастным ограничением, отсортируйте полученные данные по рейтингу. У какого фильма будет минимальный/максимальный рейтинг?**"
   ]
  },
  {
   "cell_type": "code",
   "execution_count": 1,
   "id": "05edf2bb",
   "metadata": {},
   "outputs": [],
   "source": [
    "# ╰( ͡° ͜ʖ ͡° )つ──☆*:・ﾟ"
   ]
  },
  {
   "cell_type": "markdown",
   "id": "99c16c47",
   "metadata": {},
   "source": [
    "**3. Сколько уникальных драматических (Drama) фильмов есть в данных?**"
   ]
  },
  {
   "cell_type": "code",
   "execution_count": 2,
   "id": "a3d517d7",
   "metadata": {},
   "outputs": [],
   "source": [
    "# ╰( ͡° ͜ʖ ͡° )つ──☆*:・ﾟ"
   ]
  },
  {
   "cell_type": "markdown",
   "id": "f25518f7",
   "metadata": {},
   "source": [
    "**4. Создайте столбец с продолжительностью фильма, выраженной числовым значением. Выберите только те фильмы, которые длились больше пяти часов (300 минут). Сколько таких фильмов?**"
   ]
  },
  {
   "cell_type": "code",
   "execution_count": 3,
   "id": "02aa3dd9",
   "metadata": {},
   "outputs": [],
   "source": [
    "# ╰( ͡° ͜ʖ ͡° )つ──☆*:・ﾟ"
   ]
  },
  {
   "cell_type": "markdown",
   "id": "9611830a",
   "metadata": {},
   "source": [
    "**5. Отсортируйте данные по длительности фильма. Выведите описание самого длинного фильма.**"
   ]
  },
  {
   "cell_type": "code",
   "execution_count": 4,
   "id": "372cbe76",
   "metadata": {},
   "outputs": [],
   "source": [
    "# ╰( ͡° ͜ʖ ͡° )つ──☆*:・ﾟ"
   ]
  },
  {
   "cell_type": "markdown",
   "id": "c26a6bde",
   "metadata": {},
   "source": [
    "**6. Создайте столбец с годом фильма (используйте для преобразования столбец `year`; если там два года, то выбирайте первый). Используя новый столбец выберите только те фильмы, которые были выпущены с 2016 по 2020 года. Сгруппируйте полученные данные по возрастному ограничению и году фильма, посчитайте средний рейтинг. Выведите результат в виде таблицы.**"
   ]
  },
  {
   "cell_type": "code",
   "execution_count": 5,
   "id": "9b92d22e",
   "metadata": {},
   "outputs": [],
   "source": [
    "# ╰( ͡° ͜ʖ ͡° )つ──☆*:・ﾟ"
   ]
  },
  {
   "cell_type": "markdown",
   "id": "b227b2a6",
   "metadata": {},
   "source": [
    "## Часть 2. Меры центральной тенденции и меры разброса, корреляция"
   ]
  },
  {
   "cell_type": "markdown",
   "id": "a5d765c2",
   "metadata": {},
   "source": [
    "**7. Какова средняя продолжительность фильма в 2022 году?**"
   ]
  },
  {
   "cell_type": "code",
   "execution_count": 6,
   "id": "b2a8ff1d",
   "metadata": {},
   "outputs": [],
   "source": [
    "# ╰( ͡° ͜ʖ ͡° )つ──☆*:・ﾟ"
   ]
  },
  {
   "cell_type": "markdown",
   "id": "18255b9e",
   "metadata": {},
   "source": [
    "**8. Преобразуйте столбец `votes` (можно на его основе создать новый), чтобы с ним можно было проводить вычисления (уберите запятую, преобразуйте в целое число). Найдите выбросы по новой переменной, используя межквартильный размах. Сколько фильмов останется, если убрать (отфильтровать данные) выбросы?**"
   ]
  },
  {
   "cell_type": "code",
   "execution_count": 7,
   "id": "627ad1ac",
   "metadata": {},
   "outputs": [],
   "source": [
    "# ╰( ͡° ͜ʖ ͡° )つ──☆*:・ﾟ"
   ]
  },
  {
   "cell_type": "markdown",
   "id": "444eda04",
   "metadata": {},
   "source": [
    "**9. Посчитайте среднее и медиану по рейтингу до и после удаления выбросов (предыдущий пункт). Как изменились меры?**"
   ]
  },
  {
   "cell_type": "code",
   "execution_count": 8,
   "id": "4b53d0e9",
   "metadata": {},
   "outputs": [],
   "source": [
    "# ╰( ͡° ͜ʖ ͡° )つ──☆*:・ﾟ"
   ]
  },
  {
   "cell_type": "markdown",
   "id": "fa5ee478",
   "metadata": {},
   "source": [
    "**10. Укажите фильм с максимальным количеством голсов.**"
   ]
  },
  {
   "cell_type": "code",
   "execution_count": 9,
   "id": "32b10bae",
   "metadata": {},
   "outputs": [],
   "source": [
    "# ╰( ͡° ͜ʖ ͡° )つ──☆*:・ﾟ"
   ]
  },
  {
   "cell_type": "markdown",
   "id": "f8052885",
   "metadata": {},
   "source": [
    "**11. Постройте корреляционную матрицу для рейтига, количества голосов и длительности фильма. Прокомментируйте каждый коэффициент корреляции (укажите тип взаимосвязи и силу).**"
   ]
  },
  {
   "cell_type": "code",
   "execution_count": 10,
   "id": "4f63bc1e",
   "metadata": {},
   "outputs": [],
   "source": [
    "# ╰( ͡° ͜ʖ ͡° )つ──☆*:・ﾟ"
   ]
  },
  {
   "cell_type": "markdown",
   "id": "3835937f",
   "metadata": {},
   "source": [
    "**12. Сколько в данных фильмов с рейтингом выше среднего?**"
   ]
  },
  {
   "cell_type": "code",
   "execution_count": 11,
   "id": "6be93c16",
   "metadata": {},
   "outputs": [],
   "source": [
    "# ╰( ͡° ͜ʖ ͡° )つ──☆*:・ﾟ"
   ]
  },
  {
   "cell_type": "markdown",
   "id": "7aa6fbe7",
   "metadata": {},
   "source": [
    "**13. Выберите все фильмы, в описании которых есть слово `love`. У какого фильма наибольший рейтинг? У какого фильма наибольшее количество голосов? В каком году было выпущено большинство из них?**"
   ]
  },
  {
   "cell_type": "code",
   "execution_count": 12,
   "id": "dc3185ef",
   "metadata": {},
   "outputs": [],
   "source": [
    "# ╰( ͡° ͜ʖ ͡° )つ──☆*:・ﾟ"
   ]
  }
 ],
 "metadata": {
  "kernelspec": {
   "display_name": "Python 3 (ipykernel)",
   "language": "python",
   "name": "python3"
  },
  "language_info": {
   "codemirror_mode": {
    "name": "ipython",
    "version": 3
   },
   "file_extension": ".py",
   "mimetype": "text/x-python",
   "name": "python",
   "nbconvert_exporter": "python",
   "pygments_lexer": "ipython3",
   "version": "3.9.7"
  }
 },
 "nbformat": 4,
 "nbformat_minor": 5
}
