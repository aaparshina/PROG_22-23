{
 "cells": [
  {
   "cell_type": "markdown",
   "id": "36bff9a9",
   "metadata": {},
   "source": [
    "# Программирование на Python \n",
    "\n",
    "# Работа с таблицами — `pandas` \n",
    "\n",
    "*Автор: Паршина Анастасия, НИУ ВШЭ (tg: @aaparshina)*\n",
    "\n",
    "[Источник данных - Kaggle](https://www.kaggle.com/datasets/narayan63/netflix-popular-movies-dataset)\n",
    "\n",
    "Данные содержат следующие признаки:\n",
    "\n",
    "* `title` - Название фильма\n",
    "* `year` - Год выпуска фильма\n",
    "* `certificate` - Возрастное ограничение\n",
    "* `duration` - Длительность\n",
    "* `genre` - Жанр фильма\n",
    "* `rating` - Рейтиг фильма\n",
    "* `description` - Описание\n",
    "* `stars` - Актеры\n",
    "* `votes` - Количество оценок фильма"
   ]
  },
  {
   "cell_type": "code",
   "execution_count": 1,
   "id": "3d5e6a03",
   "metadata": {},
   "outputs": [
    {
     "data": {
      "text/html": [
       "<div>\n",
       "<style scoped>\n",
       "    .dataframe tbody tr th:only-of-type {\n",
       "        vertical-align: middle;\n",
       "    }\n",
       "\n",
       "    .dataframe tbody tr th {\n",
       "        vertical-align: top;\n",
       "    }\n",
       "\n",
       "    .dataframe thead th {\n",
       "        text-align: right;\n",
       "    }\n",
       "</style>\n",
       "<table border=\"1\" class=\"dataframe\">\n",
       "  <thead>\n",
       "    <tr style=\"text-align: right;\">\n",
       "      <th></th>\n",
       "      <th>title</th>\n",
       "      <th>year</th>\n",
       "      <th>certificate</th>\n",
       "      <th>duration</th>\n",
       "      <th>genre</th>\n",
       "      <th>rating</th>\n",
       "      <th>description</th>\n",
       "      <th>stars</th>\n",
       "      <th>votes</th>\n",
       "    </tr>\n",
       "  </thead>\n",
       "  <tbody>\n",
       "    <tr>\n",
       "      <th>0</th>\n",
       "      <td>Cobra Kai</td>\n",
       "      <td>(2018– )</td>\n",
       "      <td>TV-14</td>\n",
       "      <td>30 min</td>\n",
       "      <td>Action, Comedy, Drama</td>\n",
       "      <td>8.5</td>\n",
       "      <td>Decades after their 1984 All Valley Karate Tou...</td>\n",
       "      <td>['Ralph Macchio, ', 'William Zabka, ', 'Courtn...</td>\n",
       "      <td>177,031</td>\n",
       "    </tr>\n",
       "    <tr>\n",
       "      <th>1</th>\n",
       "      <td>The Crown</td>\n",
       "      <td>(2016– )</td>\n",
       "      <td>TV-MA</td>\n",
       "      <td>58 min</td>\n",
       "      <td>Biography, Drama, History</td>\n",
       "      <td>8.7</td>\n",
       "      <td>Follows the political rivalries and romance of...</td>\n",
       "      <td>['Claire Foy, ', 'Olivia Colman, ', 'Imelda St...</td>\n",
       "      <td>199,885</td>\n",
       "    </tr>\n",
       "    <tr>\n",
       "      <th>2</th>\n",
       "      <td>Better Call Saul</td>\n",
       "      <td>(2015–2022)</td>\n",
       "      <td>TV-MA</td>\n",
       "      <td>46 min</td>\n",
       "      <td>Crime, Drama</td>\n",
       "      <td>8.9</td>\n",
       "      <td>The trials and tribulations of criminal lawyer...</td>\n",
       "      <td>['Bob Odenkirk, ', 'Rhea Seehorn, ', 'Jonathan...</td>\n",
       "      <td>501,384</td>\n",
       "    </tr>\n",
       "    <tr>\n",
       "      <th>3</th>\n",
       "      <td>Devil in Ohio</td>\n",
       "      <td>(2022)</td>\n",
       "      <td>TV-MA</td>\n",
       "      <td>356 min</td>\n",
       "      <td>Drama, Horror, Mystery</td>\n",
       "      <td>5.9</td>\n",
       "      <td>When a psychiatrist shelters a mysterious cult...</td>\n",
       "      <td>['Emily Deschanel, ', 'Sam Jaeger, ', 'Gerardo...</td>\n",
       "      <td>9,773</td>\n",
       "    </tr>\n",
       "    <tr>\n",
       "      <th>4</th>\n",
       "      <td>Cyberpunk: Edgerunners</td>\n",
       "      <td>(2022– )</td>\n",
       "      <td>TV-MA</td>\n",
       "      <td>24 min</td>\n",
       "      <td>Animation, Action, Adventure</td>\n",
       "      <td>8.6</td>\n",
       "      <td>A Street Kid trying to survive in a technology...</td>\n",
       "      <td>['Zach Aguilar, ', 'Kenichiro Ohashi, ', 'Emi ...</td>\n",
       "      <td>15,413</td>\n",
       "    </tr>\n",
       "  </tbody>\n",
       "</table>\n",
       "</div>"
      ],
      "text/plain": [
       "                    title         year certificate duration  \\\n",
       "0               Cobra Kai     (2018– )       TV-14   30 min   \n",
       "1               The Crown     (2016– )       TV-MA   58 min   \n",
       "2        Better Call Saul  (2015–2022)       TV-MA   46 min   \n",
       "3           Devil in Ohio       (2022)       TV-MA  356 min   \n",
       "4  Cyberpunk: Edgerunners     (2022– )       TV-MA   24 min   \n",
       "\n",
       "                          genre  rating  \\\n",
       "0         Action, Comedy, Drama     8.5   \n",
       "1     Biography, Drama, History     8.7   \n",
       "2                  Crime, Drama     8.9   \n",
       "3        Drama, Horror, Mystery     5.9   \n",
       "4  Animation, Action, Adventure     8.6   \n",
       "\n",
       "                                         description  \\\n",
       "0  Decades after their 1984 All Valley Karate Tou...   \n",
       "1  Follows the political rivalries and romance of...   \n",
       "2  The trials and tribulations of criminal lawyer...   \n",
       "3  When a psychiatrist shelters a mysterious cult...   \n",
       "4  A Street Kid trying to survive in a technology...   \n",
       "\n",
       "                                               stars    votes  \n",
       "0  ['Ralph Macchio, ', 'William Zabka, ', 'Courtn...  177,031  \n",
       "1  ['Claire Foy, ', 'Olivia Colman, ', 'Imelda St...  199,885  \n",
       "2  ['Bob Odenkirk, ', 'Rhea Seehorn, ', 'Jonathan...  501,384  \n",
       "3  ['Emily Deschanel, ', 'Sam Jaeger, ', 'Gerardo...    9,773  \n",
       "4  ['Zach Aguilar, ', 'Kenichiro Ohashi, ', 'Emi ...   15,413  "
      ]
     },
     "execution_count": 1,
     "metadata": {},
     "output_type": "execute_result"
    }
   ],
   "source": [
    "import pandas as pd\n",
    "\n",
    "data = pd.read_csv('https://raw.githubusercontent.com/aaparshina/PROG_22-23/main/DATA/movies.csv')\n",
    "data.head()"
   ]
  },
  {
   "cell_type": "markdown",
   "id": "0bfbf683",
   "metadata": {},
   "source": [
    "## Часть 1. Работа с данными — фильтрация, сортировка, группировка, создание новых признаков"
   ]
  },
  {
   "cell_type": "markdown",
   "id": "0cf6c373",
   "metadata": {},
   "source": [
    "**1. Сколько всего уникальных фильмов в данных? Сколько всего фильмов с рейтингом выше 7.5?**"
   ]
  },
  {
   "cell_type": "code",
   "execution_count": 2,
   "id": "682bbe47",
   "metadata": {},
   "outputs": [
    {
     "data": {
      "text/plain": [
       "6261"
      ]
     },
     "execution_count": 2,
     "metadata": {},
     "output_type": "execute_result"
    }
   ],
   "source": [
    "len(data['title'].unique())"
   ]
  },
  {
   "cell_type": "code",
   "execution_count": 3,
   "id": "3f1fd7ac",
   "metadata": {},
   "outputs": [
    {
     "data": {
      "text/plain": [
       "1283"
      ]
     },
     "execution_count": 3,
     "metadata": {},
     "output_type": "execute_result"
    }
   ],
   "source": [
    "len(data[data['rating'] > 7.5]['title'].unique())"
   ]
  },
  {
   "cell_type": "markdown",
   "id": "38ad0eb3",
   "metadata": {},
   "source": [
    "**2. Выберите фильмы с самым часто встречающимся возрастным ограничением, отсортируйте полученные данные по рейтингу. У какого фильма будет минимальный/максимальный рейтинг?**"
   ]
  },
  {
   "cell_type": "code",
   "execution_count": 179,
   "id": "05edf2bb",
   "metadata": {},
   "outputs": [
    {
     "data": {
      "text/plain": [
       "TV-MA        2197\n",
       "TV-14        1081\n",
       "R             466\n",
       "TV-PG         464\n",
       "Not Rated     458\n",
       "PG-13         276\n",
       "TV-Y7         266\n",
       "PG            154\n",
       "TV-G          114\n",
       "TV-Y          109\n",
       "Unrated        63\n",
       "G              43\n",
       "Approved       25\n",
       "TV-Y7-FV       25\n",
       "Passed          6\n",
       "NC-17           4\n",
       "MA-17           1\n",
       "12              1\n",
       "M               1\n",
       "Name: certificate, dtype: int64"
      ]
     },
     "execution_count": 179,
     "metadata": {},
     "output_type": "execute_result"
    }
   ],
   "source": [
    "data['certificate'].value_counts()"
   ]
  },
  {
   "cell_type": "code",
   "execution_count": 180,
   "id": "9fb90dfe",
   "metadata": {},
   "outputs": [
    {
     "data": {
      "text/plain": [
       "3280    The Hype House\n",
       "Name: title, dtype: object"
      ]
     },
     "execution_count": 180,
     "metadata": {},
     "output_type": "execute_result"
    }
   ],
   "source": [
    "data[data['certificate'] == 'TV-MA'].sort_values(by = 'rating')['title'].head(1)"
   ]
  },
  {
   "cell_type": "code",
   "execution_count": 181,
   "id": "9e571248",
   "metadata": {},
   "outputs": [
    {
     "data": {
      "text/plain": [
       "7321    BoJack Horseman\n",
       "Name: title, dtype: object"
      ]
     },
     "execution_count": 181,
     "metadata": {},
     "output_type": "execute_result"
    }
   ],
   "source": [
    "data[data['certificate'] == 'TV-MA'].sort_values(by = 'rating', ascending = False)['title'].head(1)"
   ]
  },
  {
   "cell_type": "markdown",
   "id": "99c16c47",
   "metadata": {},
   "source": [
    "**3. Сколько уникальных драматических (Drama) фильмов есть в данных?**"
   ]
  },
  {
   "cell_type": "code",
   "execution_count": 6,
   "id": "a3d517d7",
   "metadata": {},
   "outputs": [
    {
     "data": {
      "text/plain": [
       "2671"
      ]
     },
     "execution_count": 6,
     "metadata": {},
     "output_type": "execute_result"
    }
   ],
   "source": [
    "genre = data.dropna(subset = 'genre')\n",
    "len(genre[genre['genre'].str.contains(\"Drama\")]['title'].unique())"
   ]
  },
  {
   "cell_type": "markdown",
   "id": "f25518f7",
   "metadata": {},
   "source": [
    "**4. Создайте столбец с продолжительностью фильма, выраженной числовым значением. Выберите только те фильмы, которые длились больше пяти часов (300 минут). Сколько таких фильмов?**"
   ]
  },
  {
   "cell_type": "code",
   "execution_count": 8,
   "id": "02aa3dd9",
   "metadata": {},
   "outputs": [
    {
     "data": {
      "text/html": [
       "<div>\n",
       "<style scoped>\n",
       "    .dataframe tbody tr th:only-of-type {\n",
       "        vertical-align: middle;\n",
       "    }\n",
       "\n",
       "    .dataframe tbody tr th {\n",
       "        vertical-align: top;\n",
       "    }\n",
       "\n",
       "    .dataframe thead th {\n",
       "        text-align: right;\n",
       "    }\n",
       "</style>\n",
       "<table border=\"1\" class=\"dataframe\">\n",
       "  <thead>\n",
       "    <tr style=\"text-align: right;\">\n",
       "      <th></th>\n",
       "      <th>title</th>\n",
       "      <th>year</th>\n",
       "      <th>certificate</th>\n",
       "      <th>duration</th>\n",
       "      <th>genre</th>\n",
       "      <th>rating</th>\n",
       "      <th>description</th>\n",
       "      <th>stars</th>\n",
       "      <th>votes</th>\n",
       "      <th>dur_new</th>\n",
       "    </tr>\n",
       "  </thead>\n",
       "  <tbody>\n",
       "    <tr>\n",
       "      <th>0</th>\n",
       "      <td>Cobra Kai</td>\n",
       "      <td>(2018– )</td>\n",
       "      <td>TV-14</td>\n",
       "      <td>30 min</td>\n",
       "      <td>Action, Comedy, Drama</td>\n",
       "      <td>8.5</td>\n",
       "      <td>Decades after their 1984 All Valley Karate Tou...</td>\n",
       "      <td>['Ralph Macchio, ', 'William Zabka, ', 'Courtn...</td>\n",
       "      <td>177,031</td>\n",
       "      <td>30</td>\n",
       "    </tr>\n",
       "    <tr>\n",
       "      <th>1</th>\n",
       "      <td>The Crown</td>\n",
       "      <td>(2016– )</td>\n",
       "      <td>TV-MA</td>\n",
       "      <td>58 min</td>\n",
       "      <td>Biography, Drama, History</td>\n",
       "      <td>8.7</td>\n",
       "      <td>Follows the political rivalries and romance of...</td>\n",
       "      <td>['Claire Foy, ', 'Olivia Colman, ', 'Imelda St...</td>\n",
       "      <td>199,885</td>\n",
       "      <td>58</td>\n",
       "    </tr>\n",
       "    <tr>\n",
       "      <th>2</th>\n",
       "      <td>Better Call Saul</td>\n",
       "      <td>(2015–2022)</td>\n",
       "      <td>TV-MA</td>\n",
       "      <td>46 min</td>\n",
       "      <td>Crime, Drama</td>\n",
       "      <td>8.9</td>\n",
       "      <td>The trials and tribulations of criminal lawyer...</td>\n",
       "      <td>['Bob Odenkirk, ', 'Rhea Seehorn, ', 'Jonathan...</td>\n",
       "      <td>501,384</td>\n",
       "      <td>46</td>\n",
       "    </tr>\n",
       "    <tr>\n",
       "      <th>3</th>\n",
       "      <td>Devil in Ohio</td>\n",
       "      <td>(2022)</td>\n",
       "      <td>TV-MA</td>\n",
       "      <td>356 min</td>\n",
       "      <td>Drama, Horror, Mystery</td>\n",
       "      <td>5.9</td>\n",
       "      <td>When a psychiatrist shelters a mysterious cult...</td>\n",
       "      <td>['Emily Deschanel, ', 'Sam Jaeger, ', 'Gerardo...</td>\n",
       "      <td>9,773</td>\n",
       "      <td>356</td>\n",
       "    </tr>\n",
       "    <tr>\n",
       "      <th>4</th>\n",
       "      <td>Cyberpunk: Edgerunners</td>\n",
       "      <td>(2022– )</td>\n",
       "      <td>TV-MA</td>\n",
       "      <td>24 min</td>\n",
       "      <td>Animation, Action, Adventure</td>\n",
       "      <td>8.6</td>\n",
       "      <td>A Street Kid trying to survive in a technology...</td>\n",
       "      <td>['Zach Aguilar, ', 'Kenichiro Ohashi, ', 'Emi ...</td>\n",
       "      <td>15,413</td>\n",
       "      <td>24</td>\n",
       "    </tr>\n",
       "  </tbody>\n",
       "</table>\n",
       "</div>"
      ],
      "text/plain": [
       "                    title         year certificate duration  \\\n",
       "0               Cobra Kai     (2018– )       TV-14   30 min   \n",
       "1               The Crown     (2016– )       TV-MA   58 min   \n",
       "2        Better Call Saul  (2015–2022)       TV-MA   46 min   \n",
       "3           Devil in Ohio       (2022)       TV-MA  356 min   \n",
       "4  Cyberpunk: Edgerunners     (2022– )       TV-MA   24 min   \n",
       "\n",
       "                          genre  rating  \\\n",
       "0         Action, Comedy, Drama     8.5   \n",
       "1     Biography, Drama, History     8.7   \n",
       "2                  Crime, Drama     8.9   \n",
       "3        Drama, Horror, Mystery     5.9   \n",
       "4  Animation, Action, Adventure     8.6   \n",
       "\n",
       "                                         description  \\\n",
       "0  Decades after their 1984 All Valley Karate Tou...   \n",
       "1  Follows the political rivalries and romance of...   \n",
       "2  The trials and tribulations of criminal lawyer...   \n",
       "3  When a psychiatrist shelters a mysterious cult...   \n",
       "4  A Street Kid trying to survive in a technology...   \n",
       "\n",
       "                                               stars    votes  dur_new  \n",
       "0  ['Ralph Macchio, ', 'William Zabka, ', 'Courtn...  177,031       30  \n",
       "1  ['Claire Foy, ', 'Olivia Colman, ', 'Imelda St...  199,885       58  \n",
       "2  ['Bob Odenkirk, ', 'Rhea Seehorn, ', 'Jonathan...  501,384       46  \n",
       "3  ['Emily Deschanel, ', 'Sam Jaeger, ', 'Gerardo...    9,773      356  \n",
       "4  ['Zach Aguilar, ', 'Kenichiro Ohashi, ', 'Emi ...   15,413       24  "
      ]
     },
     "execution_count": 8,
     "metadata": {},
     "output_type": "execute_result"
    }
   ],
   "source": [
    "data['dur_new'] = data['duration'].apply(lambda x: int(x.split()[0]))\n",
    "data.head()"
   ]
  },
  {
   "cell_type": "code",
   "execution_count": 184,
   "id": "45a5a760",
   "metadata": {},
   "outputs": [
    {
     "data": {
      "text/plain": [
       "55"
      ]
     },
     "execution_count": 184,
     "metadata": {},
     "output_type": "execute_result"
    }
   ],
   "source": [
    "len(data[data['dur_new'] > 300]['title'].unique())"
   ]
  },
  {
   "cell_type": "markdown",
   "id": "9611830a",
   "metadata": {},
   "source": [
    "**5. Отсортируйте данные по длительности фильма. Выведите описание самого длинного фильма.**"
   ]
  },
  {
   "cell_type": "code",
   "execution_count": 187,
   "id": "372cbe76",
   "metadata": {},
   "outputs": [
    {
     "data": {
      "text/plain": [
       "\"A comprehensive history of the United States' involvement in the bitterly divisive armed conflict in Southeast Asia.\""
      ]
     },
     "execution_count": 187,
     "metadata": {},
     "output_type": "execute_result"
    }
   ],
   "source": [
    "data.sort_values(by = 'dur_new', ascending = False).loc[896]['description']"
   ]
  },
  {
   "cell_type": "markdown",
   "id": "c26a6bde",
   "metadata": {},
   "source": [
    "**6. Создайте столбец с годом фильма (используйте для преобразования столбец `year`; если там два года, то выбирайте первый). Используя новый столбец выберите только те фильмы, которые были выпущены с 2016 по 2020 года. Сгруппируйте полученные данные по возрастному ограничению и году фильма, посчитайте средний рейтинг. Выведите результат в виде таблицы.**"
   ]
  },
  {
   "cell_type": "code",
   "execution_count": 13,
   "id": "a8cd21a3",
   "metadata": {},
   "outputs": [],
   "source": [
    "def to_year(years):\n",
    "    res = ''\n",
    "    for y in years:\n",
    "        if y.isdigit():\n",
    "            res += y\n",
    "    return int(res[:4])"
   ]
  },
  {
   "cell_type": "code",
   "execution_count": 14,
   "id": "41e8523c",
   "metadata": {},
   "outputs": [
    {
     "data": {
      "text/html": [
       "<div>\n",
       "<style scoped>\n",
       "    .dataframe tbody tr th:only-of-type {\n",
       "        vertical-align: middle;\n",
       "    }\n",
       "\n",
       "    .dataframe tbody tr th {\n",
       "        vertical-align: top;\n",
       "    }\n",
       "\n",
       "    .dataframe thead th {\n",
       "        text-align: right;\n",
       "    }\n",
       "</style>\n",
       "<table border=\"1\" class=\"dataframe\">\n",
       "  <thead>\n",
       "    <tr style=\"text-align: right;\">\n",
       "      <th></th>\n",
       "      <th>title</th>\n",
       "      <th>year</th>\n",
       "      <th>certificate</th>\n",
       "      <th>duration</th>\n",
       "      <th>genre</th>\n",
       "      <th>rating</th>\n",
       "      <th>description</th>\n",
       "      <th>stars</th>\n",
       "      <th>votes</th>\n",
       "      <th>dur_new</th>\n",
       "      <th>year_start</th>\n",
       "    </tr>\n",
       "  </thead>\n",
       "  <tbody>\n",
       "    <tr>\n",
       "      <th>0</th>\n",
       "      <td>Cobra Kai</td>\n",
       "      <td>(2018– )</td>\n",
       "      <td>TV-14</td>\n",
       "      <td>30 min</td>\n",
       "      <td>Action, Comedy, Drama</td>\n",
       "      <td>8.5</td>\n",
       "      <td>Decades after their 1984 All Valley Karate Tou...</td>\n",
       "      <td>['Ralph Macchio, ', 'William Zabka, ', 'Courtn...</td>\n",
       "      <td>177,031</td>\n",
       "      <td>30</td>\n",
       "      <td>2018</td>\n",
       "    </tr>\n",
       "    <tr>\n",
       "      <th>1</th>\n",
       "      <td>The Crown</td>\n",
       "      <td>(2016– )</td>\n",
       "      <td>TV-MA</td>\n",
       "      <td>58 min</td>\n",
       "      <td>Biography, Drama, History</td>\n",
       "      <td>8.7</td>\n",
       "      <td>Follows the political rivalries and romance of...</td>\n",
       "      <td>['Claire Foy, ', 'Olivia Colman, ', 'Imelda St...</td>\n",
       "      <td>199,885</td>\n",
       "      <td>58</td>\n",
       "      <td>2016</td>\n",
       "    </tr>\n",
       "    <tr>\n",
       "      <th>2</th>\n",
       "      <td>Better Call Saul</td>\n",
       "      <td>(2015–2022)</td>\n",
       "      <td>TV-MA</td>\n",
       "      <td>46 min</td>\n",
       "      <td>Crime, Drama</td>\n",
       "      <td>8.9</td>\n",
       "      <td>The trials and tribulations of criminal lawyer...</td>\n",
       "      <td>['Bob Odenkirk, ', 'Rhea Seehorn, ', 'Jonathan...</td>\n",
       "      <td>501,384</td>\n",
       "      <td>46</td>\n",
       "      <td>2015</td>\n",
       "    </tr>\n",
       "    <tr>\n",
       "      <th>3</th>\n",
       "      <td>Devil in Ohio</td>\n",
       "      <td>(2022)</td>\n",
       "      <td>TV-MA</td>\n",
       "      <td>356 min</td>\n",
       "      <td>Drama, Horror, Mystery</td>\n",
       "      <td>5.9</td>\n",
       "      <td>When a psychiatrist shelters a mysterious cult...</td>\n",
       "      <td>['Emily Deschanel, ', 'Sam Jaeger, ', 'Gerardo...</td>\n",
       "      <td>9,773</td>\n",
       "      <td>356</td>\n",
       "      <td>2022</td>\n",
       "    </tr>\n",
       "    <tr>\n",
       "      <th>4</th>\n",
       "      <td>Cyberpunk: Edgerunners</td>\n",
       "      <td>(2022– )</td>\n",
       "      <td>TV-MA</td>\n",
       "      <td>24 min</td>\n",
       "      <td>Animation, Action, Adventure</td>\n",
       "      <td>8.6</td>\n",
       "      <td>A Street Kid trying to survive in a technology...</td>\n",
       "      <td>['Zach Aguilar, ', 'Kenichiro Ohashi, ', 'Emi ...</td>\n",
       "      <td>15,413</td>\n",
       "      <td>24</td>\n",
       "      <td>2022</td>\n",
       "    </tr>\n",
       "  </tbody>\n",
       "</table>\n",
       "</div>"
      ],
      "text/plain": [
       "                    title         year certificate duration  \\\n",
       "0               Cobra Kai     (2018– )       TV-14   30 min   \n",
       "1               The Crown     (2016– )       TV-MA   58 min   \n",
       "2        Better Call Saul  (2015–2022)       TV-MA   46 min   \n",
       "3           Devil in Ohio       (2022)       TV-MA  356 min   \n",
       "4  Cyberpunk: Edgerunners     (2022– )       TV-MA   24 min   \n",
       "\n",
       "                          genre  rating  \\\n",
       "0         Action, Comedy, Drama     8.5   \n",
       "1     Biography, Drama, History     8.7   \n",
       "2                  Crime, Drama     8.9   \n",
       "3        Drama, Horror, Mystery     5.9   \n",
       "4  Animation, Action, Adventure     8.6   \n",
       "\n",
       "                                         description  \\\n",
       "0  Decades after their 1984 All Valley Karate Tou...   \n",
       "1  Follows the political rivalries and romance of...   \n",
       "2  The trials and tribulations of criminal lawyer...   \n",
       "3  When a psychiatrist shelters a mysterious cult...   \n",
       "4  A Street Kid trying to survive in a technology...   \n",
       "\n",
       "                                               stars    votes  dur_new  \\\n",
       "0  ['Ralph Macchio, ', 'William Zabka, ', 'Courtn...  177,031       30   \n",
       "1  ['Claire Foy, ', 'Olivia Colman, ', 'Imelda St...  199,885       58   \n",
       "2  ['Bob Odenkirk, ', 'Rhea Seehorn, ', 'Jonathan...  501,384       46   \n",
       "3  ['Emily Deschanel, ', 'Sam Jaeger, ', 'Gerardo...    9,773      356   \n",
       "4  ['Zach Aguilar, ', 'Kenichiro Ohashi, ', 'Emi ...   15,413       24   \n",
       "\n",
       "   year_start  \n",
       "0        2018  \n",
       "1        2016  \n",
       "2        2015  \n",
       "3        2022  \n",
       "4        2022  "
      ]
     },
     "execution_count": 14,
     "metadata": {},
     "output_type": "execute_result"
    }
   ],
   "source": [
    "data['year_start'] = data['year'].apply(to_year)\n",
    "data.head()"
   ]
  },
  {
   "cell_type": "code",
   "execution_count": 15,
   "id": "bb8ed0be",
   "metadata": {},
   "outputs": [
    {
     "data": {
      "text/html": [
       "<div>\n",
       "<style scoped>\n",
       "    .dataframe tbody tr th:only-of-type {\n",
       "        vertical-align: middle;\n",
       "    }\n",
       "\n",
       "    .dataframe tbody tr th {\n",
       "        vertical-align: top;\n",
       "    }\n",
       "\n",
       "    .dataframe thead th {\n",
       "        text-align: right;\n",
       "    }\n",
       "</style>\n",
       "<table border=\"1\" class=\"dataframe\">\n",
       "  <thead>\n",
       "    <tr style=\"text-align: right;\">\n",
       "      <th>year_start</th>\n",
       "      <th>2016</th>\n",
       "      <th>2017</th>\n",
       "      <th>2018</th>\n",
       "      <th>2019</th>\n",
       "      <th>2020</th>\n",
       "    </tr>\n",
       "    <tr>\n",
       "      <th>certificate</th>\n",
       "      <th></th>\n",
       "      <th></th>\n",
       "      <th></th>\n",
       "      <th></th>\n",
       "      <th></th>\n",
       "    </tr>\n",
       "  </thead>\n",
       "  <tbody>\n",
       "    <tr>\n",
       "      <th>Approved</th>\n",
       "      <td>NaN</td>\n",
       "      <td>NaN</td>\n",
       "      <td>7.800000</td>\n",
       "      <td>NaN</td>\n",
       "      <td>NaN</td>\n",
       "    </tr>\n",
       "    <tr>\n",
       "      <th>G</th>\n",
       "      <td>6.600000</td>\n",
       "      <td>6.433333</td>\n",
       "      <td>NaN</td>\n",
       "      <td>6.800000</td>\n",
       "      <td>5.900000</td>\n",
       "    </tr>\n",
       "    <tr>\n",
       "      <th>M</th>\n",
       "      <td>NaN</td>\n",
       "      <td>NaN</td>\n",
       "      <td>NaN</td>\n",
       "      <td>5.800000</td>\n",
       "      <td>NaN</td>\n",
       "    </tr>\n",
       "    <tr>\n",
       "      <th>Not Rated</th>\n",
       "      <td>5.679592</td>\n",
       "      <td>5.840000</td>\n",
       "      <td>5.934783</td>\n",
       "      <td>5.673077</td>\n",
       "      <td>6.855556</td>\n",
       "    </tr>\n",
       "    <tr>\n",
       "      <th>PG</th>\n",
       "      <td>6.940000</td>\n",
       "      <td>6.181818</td>\n",
       "      <td>6.177778</td>\n",
       "      <td>6.400000</td>\n",
       "      <td>6.175000</td>\n",
       "    </tr>\n",
       "    <tr>\n",
       "      <th>PG-13</th>\n",
       "      <td>6.286364</td>\n",
       "      <td>6.030000</td>\n",
       "      <td>6.023810</td>\n",
       "      <td>6.193750</td>\n",
       "      <td>6.436000</td>\n",
       "    </tr>\n",
       "    <tr>\n",
       "      <th>R</th>\n",
       "      <td>6.118421</td>\n",
       "      <td>5.990323</td>\n",
       "      <td>6.353125</td>\n",
       "      <td>6.097222</td>\n",
       "      <td>6.010811</td>\n",
       "    </tr>\n",
       "    <tr>\n",
       "      <th>TV-14</th>\n",
       "      <td>7.434021</td>\n",
       "      <td>6.888350</td>\n",
       "      <td>7.165909</td>\n",
       "      <td>6.919298</td>\n",
       "      <td>6.834211</td>\n",
       "    </tr>\n",
       "    <tr>\n",
       "      <th>TV-G</th>\n",
       "      <td>6.614286</td>\n",
       "      <td>6.850000</td>\n",
       "      <td>6.522222</td>\n",
       "      <td>7.716667</td>\n",
       "      <td>7.123333</td>\n",
       "    </tr>\n",
       "    <tr>\n",
       "      <th>TV-MA</th>\n",
       "      <td>7.009184</td>\n",
       "      <td>6.927320</td>\n",
       "      <td>6.808633</td>\n",
       "      <td>7.022606</td>\n",
       "      <td>6.828715</td>\n",
       "    </tr>\n",
       "    <tr>\n",
       "      <th>TV-PG</th>\n",
       "      <td>7.105263</td>\n",
       "      <td>7.548387</td>\n",
       "      <td>7.098246</td>\n",
       "      <td>6.680488</td>\n",
       "      <td>6.576923</td>\n",
       "    </tr>\n",
       "    <tr>\n",
       "      <th>TV-Y</th>\n",
       "      <td>6.433333</td>\n",
       "      <td>6.333333</td>\n",
       "      <td>6.642857</td>\n",
       "      <td>5.766667</td>\n",
       "      <td>6.025000</td>\n",
       "    </tr>\n",
       "    <tr>\n",
       "      <th>TV-Y7</th>\n",
       "      <td>6.900000</td>\n",
       "      <td>6.814815</td>\n",
       "      <td>7.707843</td>\n",
       "      <td>6.307692</td>\n",
       "      <td>6.425000</td>\n",
       "    </tr>\n",
       "    <tr>\n",
       "      <th>TV-Y7-FV</th>\n",
       "      <td>8.100000</td>\n",
       "      <td>6.200000</td>\n",
       "      <td>6.142857</td>\n",
       "      <td>7.033333</td>\n",
       "      <td>7.120000</td>\n",
       "    </tr>\n",
       "    <tr>\n",
       "      <th>Unrated</th>\n",
       "      <td>6.585714</td>\n",
       "      <td>6.366667</td>\n",
       "      <td>6.266667</td>\n",
       "      <td>6.050000</td>\n",
       "      <td>6.200000</td>\n",
       "    </tr>\n",
       "  </tbody>\n",
       "</table>\n",
       "</div>"
      ],
      "text/plain": [
       "year_start       2016      2017      2018      2019      2020\n",
       "certificate                                                  \n",
       "Approved          NaN       NaN  7.800000       NaN       NaN\n",
       "G            6.600000  6.433333       NaN  6.800000  5.900000\n",
       "M                 NaN       NaN       NaN  5.800000       NaN\n",
       "Not Rated    5.679592  5.840000  5.934783  5.673077  6.855556\n",
       "PG           6.940000  6.181818  6.177778  6.400000  6.175000\n",
       "PG-13        6.286364  6.030000  6.023810  6.193750  6.436000\n",
       "R            6.118421  5.990323  6.353125  6.097222  6.010811\n",
       "TV-14        7.434021  6.888350  7.165909  6.919298  6.834211\n",
       "TV-G         6.614286  6.850000  6.522222  7.716667  7.123333\n",
       "TV-MA        7.009184  6.927320  6.808633  7.022606  6.828715\n",
       "TV-PG        7.105263  7.548387  7.098246  6.680488  6.576923\n",
       "TV-Y         6.433333  6.333333  6.642857  5.766667  6.025000\n",
       "TV-Y7        6.900000  6.814815  7.707843  6.307692  6.425000\n",
       "TV-Y7-FV     8.100000  6.200000  6.142857  7.033333  7.120000\n",
       "Unrated      6.585714  6.366667  6.266667  6.050000  6.200000"
      ]
     },
     "execution_count": 15,
     "metadata": {},
     "output_type": "execute_result"
    }
   ],
   "source": [
    "data_2015 = data[(data['year_start'] > 2015) & (data['year_start'] <= 2020)]\n",
    "data_2015.groupby(['certificate', 'year_start'])['rating'].mean().unstack()"
   ]
  },
  {
   "cell_type": "markdown",
   "id": "b227b2a6",
   "metadata": {},
   "source": [
    "## Часть 2. Меры центральной тенденции и меры разброса, корреляция"
   ]
  },
  {
   "cell_type": "markdown",
   "id": "a5d765c2",
   "metadata": {},
   "source": [
    "**7. Какова средняя продолжительность фильма в 2022 году?**"
   ]
  },
  {
   "cell_type": "code",
   "execution_count": 19,
   "id": "b2a8ff1d",
   "metadata": {},
   "outputs": [
    {
     "data": {
      "text/plain": [
       "84.37407407407407"
      ]
     },
     "execution_count": 19,
     "metadata": {},
     "output_type": "execute_result"
    }
   ],
   "source": [
    "data[data['year_start'] == 2022]['dur_new'].mean()"
   ]
  },
  {
   "cell_type": "markdown",
   "id": "18255b9e",
   "metadata": {},
   "source": [
    "**8. Преобразуйте столбец `votes` (можно на его основе создать новый), чтобы с ним можно было проводить вычисления (уберите запятую, преобразуйте в целое число). Найдите выбросы по новой переменной, используя межквартильный размах. Сколько фильмов останется, если убрать (отфильтровать данные) выбросы?**"
   ]
  },
  {
   "cell_type": "code",
   "execution_count": 20,
   "id": "627ad1ac",
   "metadata": {},
   "outputs": [
    {
     "data": {
      "text/html": [
       "<div>\n",
       "<style scoped>\n",
       "    .dataframe tbody tr th:only-of-type {\n",
       "        vertical-align: middle;\n",
       "    }\n",
       "\n",
       "    .dataframe tbody tr th {\n",
       "        vertical-align: top;\n",
       "    }\n",
       "\n",
       "    .dataframe thead th {\n",
       "        text-align: right;\n",
       "    }\n",
       "</style>\n",
       "<table border=\"1\" class=\"dataframe\">\n",
       "  <thead>\n",
       "    <tr style=\"text-align: right;\">\n",
       "      <th></th>\n",
       "      <th>title</th>\n",
       "      <th>year</th>\n",
       "      <th>certificate</th>\n",
       "      <th>duration</th>\n",
       "      <th>genre</th>\n",
       "      <th>rating</th>\n",
       "      <th>description</th>\n",
       "      <th>stars</th>\n",
       "      <th>votes</th>\n",
       "      <th>dur_new</th>\n",
       "      <th>year_start</th>\n",
       "      <th>votes_2</th>\n",
       "    </tr>\n",
       "  </thead>\n",
       "  <tbody>\n",
       "    <tr>\n",
       "      <th>0</th>\n",
       "      <td>Cobra Kai</td>\n",
       "      <td>(2018– )</td>\n",
       "      <td>TV-14</td>\n",
       "      <td>30 min</td>\n",
       "      <td>Action, Comedy, Drama</td>\n",
       "      <td>8.5</td>\n",
       "      <td>Decades after their 1984 All Valley Karate Tou...</td>\n",
       "      <td>['Ralph Macchio, ', 'William Zabka, ', 'Courtn...</td>\n",
       "      <td>177,031</td>\n",
       "      <td>30</td>\n",
       "      <td>2018</td>\n",
       "      <td>177031</td>\n",
       "    </tr>\n",
       "    <tr>\n",
       "      <th>1</th>\n",
       "      <td>The Crown</td>\n",
       "      <td>(2016– )</td>\n",
       "      <td>TV-MA</td>\n",
       "      <td>58 min</td>\n",
       "      <td>Biography, Drama, History</td>\n",
       "      <td>8.7</td>\n",
       "      <td>Follows the political rivalries and romance of...</td>\n",
       "      <td>['Claire Foy, ', 'Olivia Colman, ', 'Imelda St...</td>\n",
       "      <td>199,885</td>\n",
       "      <td>58</td>\n",
       "      <td>2016</td>\n",
       "      <td>199885</td>\n",
       "    </tr>\n",
       "    <tr>\n",
       "      <th>2</th>\n",
       "      <td>Better Call Saul</td>\n",
       "      <td>(2015–2022)</td>\n",
       "      <td>TV-MA</td>\n",
       "      <td>46 min</td>\n",
       "      <td>Crime, Drama</td>\n",
       "      <td>8.9</td>\n",
       "      <td>The trials and tribulations of criminal lawyer...</td>\n",
       "      <td>['Bob Odenkirk, ', 'Rhea Seehorn, ', 'Jonathan...</td>\n",
       "      <td>501,384</td>\n",
       "      <td>46</td>\n",
       "      <td>2015</td>\n",
       "      <td>501384</td>\n",
       "    </tr>\n",
       "    <tr>\n",
       "      <th>3</th>\n",
       "      <td>Devil in Ohio</td>\n",
       "      <td>(2022)</td>\n",
       "      <td>TV-MA</td>\n",
       "      <td>356 min</td>\n",
       "      <td>Drama, Horror, Mystery</td>\n",
       "      <td>5.9</td>\n",
       "      <td>When a psychiatrist shelters a mysterious cult...</td>\n",
       "      <td>['Emily Deschanel, ', 'Sam Jaeger, ', 'Gerardo...</td>\n",
       "      <td>9,773</td>\n",
       "      <td>356</td>\n",
       "      <td>2022</td>\n",
       "      <td>9773</td>\n",
       "    </tr>\n",
       "    <tr>\n",
       "      <th>4</th>\n",
       "      <td>Cyberpunk: Edgerunners</td>\n",
       "      <td>(2022– )</td>\n",
       "      <td>TV-MA</td>\n",
       "      <td>24 min</td>\n",
       "      <td>Animation, Action, Adventure</td>\n",
       "      <td>8.6</td>\n",
       "      <td>A Street Kid trying to survive in a technology...</td>\n",
       "      <td>['Zach Aguilar, ', 'Kenichiro Ohashi, ', 'Emi ...</td>\n",
       "      <td>15,413</td>\n",
       "      <td>24</td>\n",
       "      <td>2022</td>\n",
       "      <td>15413</td>\n",
       "    </tr>\n",
       "  </tbody>\n",
       "</table>\n",
       "</div>"
      ],
      "text/plain": [
       "                    title         year certificate duration  \\\n",
       "0               Cobra Kai     (2018– )       TV-14   30 min   \n",
       "1               The Crown     (2016– )       TV-MA   58 min   \n",
       "2        Better Call Saul  (2015–2022)       TV-MA   46 min   \n",
       "3           Devil in Ohio       (2022)       TV-MA  356 min   \n",
       "4  Cyberpunk: Edgerunners     (2022– )       TV-MA   24 min   \n",
       "\n",
       "                          genre  rating  \\\n",
       "0         Action, Comedy, Drama     8.5   \n",
       "1     Biography, Drama, History     8.7   \n",
       "2                  Crime, Drama     8.9   \n",
       "3        Drama, Horror, Mystery     5.9   \n",
       "4  Animation, Action, Adventure     8.6   \n",
       "\n",
       "                                         description  \\\n",
       "0  Decades after their 1984 All Valley Karate Tou...   \n",
       "1  Follows the political rivalries and romance of...   \n",
       "2  The trials and tribulations of criminal lawyer...   \n",
       "3  When a psychiatrist shelters a mysterious cult...   \n",
       "4  A Street Kid trying to survive in a technology...   \n",
       "\n",
       "                                               stars    votes  dur_new  \\\n",
       "0  ['Ralph Macchio, ', 'William Zabka, ', 'Courtn...  177,031       30   \n",
       "1  ['Claire Foy, ', 'Olivia Colman, ', 'Imelda St...  199,885       58   \n",
       "2  ['Bob Odenkirk, ', 'Rhea Seehorn, ', 'Jonathan...  501,384       46   \n",
       "3  ['Emily Deschanel, ', 'Sam Jaeger, ', 'Gerardo...    9,773      356   \n",
       "4  ['Zach Aguilar, ', 'Kenichiro Ohashi, ', 'Emi ...   15,413       24   \n",
       "\n",
       "   year_start  votes_2  \n",
       "0        2018   177031  \n",
       "1        2016   199885  \n",
       "2        2015   501384  \n",
       "3        2022     9773  \n",
       "4        2022    15413  "
      ]
     },
     "execution_count": 20,
     "metadata": {},
     "output_type": "execute_result"
    }
   ],
   "source": [
    "data['votes_2'] = data['votes'].apply(lambda x: int(x.replace(',', '')))\n",
    "data.head()"
   ]
  },
  {
   "cell_type": "code",
   "execution_count": 21,
   "id": "51d97b70",
   "metadata": {},
   "outputs": [
    {
     "data": {
      "text/plain": [
       "5178"
      ]
     },
     "execution_count": 21,
     "metadata": {},
     "output_type": "execute_result"
    }
   ],
   "source": [
    "q1 = data['votes_2'].quantile(0.25)\n",
    "q3 = data['votes_2'].quantile(0.75)\n",
    "\n",
    "iqr = q3 - q1\n",
    "\n",
    "bottom = q1 - 1.5 * iqr\n",
    "top = q3 + 1.5 * iqr\n",
    "\n",
    "len(data[data['votes_2'] > top]['title'].unique())"
   ]
  },
  {
   "cell_type": "markdown",
   "id": "444eda04",
   "metadata": {},
   "source": [
    "**9. Посчитайте среднее и медиану по рейтингу до и после удаления выбросов (предыдущий пункт). Как изменились меры?**"
   ]
  },
  {
   "cell_type": "code",
   "execution_count": 22,
   "id": "4b53d0e9",
   "metadata": {},
   "outputs": [
    {
     "name": "stdout",
     "output_type": "stream",
     "text": [
      "6.708567708333334 6.8\n",
      "6.640713178294566 6.8\n"
     ]
    }
   ],
   "source": [
    "no_outliners = data[data['votes_2'] <= top]\n",
    "\n",
    "print(data['rating'].mean(), data['rating'].median())\n",
    "print(no_outliners['rating'].mean(), no_outliners['rating'].median())"
   ]
  },
  {
   "cell_type": "markdown",
   "id": "fa5ee478",
   "metadata": {},
   "source": [
    "**10. Укажите фильм с максимальным количеством голсов.**"
   ]
  },
  {
   "cell_type": "code",
   "execution_count": 23,
   "id": "32b10bae",
   "metadata": {},
   "outputs": [
    {
     "data": {
      "text/html": [
       "<div>\n",
       "<style scoped>\n",
       "    .dataframe tbody tr th:only-of-type {\n",
       "        vertical-align: middle;\n",
       "    }\n",
       "\n",
       "    .dataframe tbody tr th {\n",
       "        vertical-align: top;\n",
       "    }\n",
       "\n",
       "    .dataframe thead th {\n",
       "        text-align: right;\n",
       "    }\n",
       "</style>\n",
       "<table border=\"1\" class=\"dataframe\">\n",
       "  <thead>\n",
       "    <tr style=\"text-align: right;\">\n",
       "      <th></th>\n",
       "      <th>title</th>\n",
       "      <th>year</th>\n",
       "      <th>certificate</th>\n",
       "      <th>duration</th>\n",
       "      <th>genre</th>\n",
       "      <th>rating</th>\n",
       "      <th>description</th>\n",
       "      <th>stars</th>\n",
       "      <th>votes</th>\n",
       "      <th>dur_new</th>\n",
       "      <th>year_start</th>\n",
       "      <th>votes_2</th>\n",
       "    </tr>\n",
       "  </thead>\n",
       "  <tbody>\n",
       "    <tr>\n",
       "      <th>7645</th>\n",
       "      <td>The Lord of the Rings: The Fellowship of the Ring</td>\n",
       "      <td>(2001)</td>\n",
       "      <td>PG-13</td>\n",
       "      <td>178 min</td>\n",
       "      <td>Action, Adventure, Drama</td>\n",
       "      <td>8.8</td>\n",
       "      <td>A meek Hobbit from the Shire and eight compani...</td>\n",
       "      <td>['Peter Jackson', '| ', '    Stars:', 'Elijah ...</td>\n",
       "      <td>1,844,075</td>\n",
       "      <td>178</td>\n",
       "      <td>2001</td>\n",
       "      <td>1844075</td>\n",
       "    </tr>\n",
       "  </tbody>\n",
       "</table>\n",
       "</div>"
      ],
      "text/plain": [
       "                                                  title    year certificate  \\\n",
       "7645  The Lord of the Rings: The Fellowship of the Ring  (2001)       PG-13   \n",
       "\n",
       "     duration                     genre  rating  \\\n",
       "7645  178 min  Action, Adventure, Drama     8.8   \n",
       "\n",
       "                                            description  \\\n",
       "7645  A meek Hobbit from the Shire and eight compani...   \n",
       "\n",
       "                                                  stars      votes  dur_new  \\\n",
       "7645  ['Peter Jackson', '| ', '    Stars:', 'Elijah ...  1,844,075      178   \n",
       "\n",
       "      year_start  votes_2  \n",
       "7645        2001  1844075  "
      ]
     },
     "execution_count": 23,
     "metadata": {},
     "output_type": "execute_result"
    }
   ],
   "source": [
    "data[data['votes_2'] == data['votes_2'].max()]"
   ]
  },
  {
   "cell_type": "markdown",
   "id": "f8052885",
   "metadata": {},
   "source": [
    "**11. Постройте корреляционную матрицу для рейтига, количества голосов и длительности фильма. Прокомментируйте каждый коэффициент корреляции (укажите тип взаимосвязи и силу).**"
   ]
  },
  {
   "cell_type": "code",
   "execution_count": 24,
   "id": "4f63bc1e",
   "metadata": {},
   "outputs": [
    {
     "data": {
      "text/html": [
       "<div>\n",
       "<style scoped>\n",
       "    .dataframe tbody tr th:only-of-type {\n",
       "        vertical-align: middle;\n",
       "    }\n",
       "\n",
       "    .dataframe tbody tr th {\n",
       "        vertical-align: top;\n",
       "    }\n",
       "\n",
       "    .dataframe thead th {\n",
       "        text-align: right;\n",
       "    }\n",
       "</style>\n",
       "<table border=\"1\" class=\"dataframe\">\n",
       "  <thead>\n",
       "    <tr style=\"text-align: right;\">\n",
       "      <th></th>\n",
       "      <th>rating</th>\n",
       "      <th>votes_2</th>\n",
       "      <th>dur_new</th>\n",
       "    </tr>\n",
       "  </thead>\n",
       "  <tbody>\n",
       "    <tr>\n",
       "      <th>rating</th>\n",
       "      <td>1.000000</td>\n",
       "      <td>0.161555</td>\n",
       "      <td>-0.166247</td>\n",
       "    </tr>\n",
       "    <tr>\n",
       "      <th>votes_2</th>\n",
       "      <td>0.161555</td>\n",
       "      <td>1.000000</td>\n",
       "      <td>0.107793</td>\n",
       "    </tr>\n",
       "    <tr>\n",
       "      <th>dur_new</th>\n",
       "      <td>-0.166247</td>\n",
       "      <td>0.107793</td>\n",
       "      <td>1.000000</td>\n",
       "    </tr>\n",
       "  </tbody>\n",
       "</table>\n",
       "</div>"
      ],
      "text/plain": [
       "           rating   votes_2   dur_new\n",
       "rating   1.000000  0.161555 -0.166247\n",
       "votes_2  0.161555  1.000000  0.107793\n",
       "dur_new -0.166247  0.107793  1.000000"
      ]
     },
     "execution_count": 24,
     "metadata": {},
     "output_type": "execute_result"
    }
   ],
   "source": [
    "data[['rating', 'votes_2', 'dur_new']].corr()\n",
    "# rating x votes_2 -- прямая, слабая\n",
    "# rating x dur_new -- обратная, слабая\n",
    "# votes_2 x dur_new -- прямая, слабая"
   ]
  },
  {
   "cell_type": "markdown",
   "id": "3835937f",
   "metadata": {},
   "source": [
    "**12. Сколько в данных фильмов с рейтингом выше среднего?**"
   ]
  },
  {
   "cell_type": "code",
   "execution_count": 25,
   "id": "6be93c16",
   "metadata": {},
   "outputs": [
    {
     "data": {
      "text/plain": [
       "2865"
      ]
     },
     "execution_count": 25,
     "metadata": {},
     "output_type": "execute_result"
    }
   ],
   "source": [
    "len(data[data['rating'] > data['rating'].mean()]['title'].unique())"
   ]
  },
  {
   "cell_type": "markdown",
   "id": "7aa6fbe7",
   "metadata": {},
   "source": [
    "**13. Выберите все фильмы, в описании которых есть слово `love`. У какого фильма наибольший рейтинг? У какого фильма наибольшее количество голосов? В каком году было выпущено большинство из них?**"
   ]
  },
  {
   "cell_type": "code",
   "execution_count": 26,
   "id": "dc3185ef",
   "metadata": {},
   "outputs": [
    {
     "data": {
      "text/html": [
       "<div>\n",
       "<style scoped>\n",
       "    .dataframe tbody tr th:only-of-type {\n",
       "        vertical-align: middle;\n",
       "    }\n",
       "\n",
       "    .dataframe tbody tr th {\n",
       "        vertical-align: top;\n",
       "    }\n",
       "\n",
       "    .dataframe thead th {\n",
       "        text-align: right;\n",
       "    }\n",
       "</style>\n",
       "<table border=\"1\" class=\"dataframe\">\n",
       "  <thead>\n",
       "    <tr style=\"text-align: right;\">\n",
       "      <th></th>\n",
       "      <th>title</th>\n",
       "      <th>year</th>\n",
       "      <th>certificate</th>\n",
       "      <th>duration</th>\n",
       "      <th>genre</th>\n",
       "      <th>rating</th>\n",
       "      <th>description</th>\n",
       "      <th>stars</th>\n",
       "      <th>votes</th>\n",
       "      <th>dur_new</th>\n",
       "      <th>year_start</th>\n",
       "      <th>votes_2</th>\n",
       "    </tr>\n",
       "  </thead>\n",
       "  <tbody>\n",
       "    <tr>\n",
       "      <th>56</th>\n",
       "      <td>The Vampire Diaries</td>\n",
       "      <td>(2009–2017)</td>\n",
       "      <td>TV-14</td>\n",
       "      <td>43 min</td>\n",
       "      <td>Drama, Fantasy, Horror</td>\n",
       "      <td>7.7</td>\n",
       "      <td>The lives, loves, dangers and disasters in the...</td>\n",
       "      <td>['Nina Dobrev, ', 'Paul Wesley, ', 'Ian Somerh...</td>\n",
       "      <td>318,383</td>\n",
       "      <td>43</td>\n",
       "      <td>2009</td>\n",
       "      <td>318383</td>\n",
       "    </tr>\n",
       "    <tr>\n",
       "      <th>61</th>\n",
       "      <td>Diario de un Gigoló</td>\n",
       "      <td>(2022)</td>\n",
       "      <td>TV-MA</td>\n",
       "      <td>50 min</td>\n",
       "      <td>Drama</td>\n",
       "      <td>6.3</td>\n",
       "      <td>A gigolo's life begins to unravel when he beco...</td>\n",
       "      <td>['Jesús Castro, ', 'Victoria White, ', 'Fabiol...</td>\n",
       "      <td>538</td>\n",
       "      <td>50</td>\n",
       "      <td>2022</td>\n",
       "      <td>538</td>\n",
       "    </tr>\n",
       "    <tr>\n",
       "      <th>63</th>\n",
       "      <td>Heartbreak High</td>\n",
       "      <td>(2022– )</td>\n",
       "      <td>TV-MA</td>\n",
       "      <td>50 min</td>\n",
       "      <td>Drama, Romance</td>\n",
       "      <td>7.6</td>\n",
       "      <td>A fresh look at Hartley High over 20 years on....</td>\n",
       "      <td>['Ayesha Madon, ', 'James Majoos, ', 'Chloe Ha...</td>\n",
       "      <td>1,502</td>\n",
       "      <td>50</td>\n",
       "      <td>2022</td>\n",
       "      <td>1502</td>\n",
       "    </tr>\n",
       "    <tr>\n",
       "      <th>88</th>\n",
       "      <td>365 Days</td>\n",
       "      <td>(2020)</td>\n",
       "      <td>TV-MA</td>\n",
       "      <td>114 min</td>\n",
       "      <td>Drama, Romance</td>\n",
       "      <td>3.3</td>\n",
       "      <td>Massimo is a member of the Sicilian Mafia fami...</td>\n",
       "      <td>['Barbara Bialowas, ', 'Tomasz Mandes', '| ', ...</td>\n",
       "      <td>89,071</td>\n",
       "      <td>114</td>\n",
       "      <td>2020</td>\n",
       "      <td>89071</td>\n",
       "    </tr>\n",
       "    <tr>\n",
       "      <th>90</th>\n",
       "      <td>Titanic</td>\n",
       "      <td>(1997)</td>\n",
       "      <td>PG-13</td>\n",
       "      <td>194 min</td>\n",
       "      <td>Drama, Romance</td>\n",
       "      <td>7.9</td>\n",
       "      <td>A seventeen-year-old aristocrat falls in love ...</td>\n",
       "      <td>['James Cameron', '| ', '    Stars:', 'Leonard...</td>\n",
       "      <td>1,158,746</td>\n",
       "      <td>194</td>\n",
       "      <td>1997</td>\n",
       "      <td>1158746</td>\n",
       "    </tr>\n",
       "  </tbody>\n",
       "</table>\n",
       "</div>"
      ],
      "text/plain": [
       "                  title         year certificate duration  \\\n",
       "56  The Vampire Diaries  (2009–2017)       TV-14   43 min   \n",
       "61  Diario de un Gigoló       (2022)       TV-MA   50 min   \n",
       "63      Heartbreak High     (2022– )       TV-MA   50 min   \n",
       "88             365 Days       (2020)       TV-MA  114 min   \n",
       "90              Titanic       (1997)       PG-13  194 min   \n",
       "\n",
       "                     genre  rating  \\\n",
       "56  Drama, Fantasy, Horror     7.7   \n",
       "61                   Drama     6.3   \n",
       "63          Drama, Romance     7.6   \n",
       "88          Drama, Romance     3.3   \n",
       "90          Drama, Romance     7.9   \n",
       "\n",
       "                                          description  \\\n",
       "56  The lives, loves, dangers and disasters in the...   \n",
       "61  A gigolo's life begins to unravel when he beco...   \n",
       "63  A fresh look at Hartley High over 20 years on....   \n",
       "88  Massimo is a member of the Sicilian Mafia fami...   \n",
       "90  A seventeen-year-old aristocrat falls in love ...   \n",
       "\n",
       "                                                stars      votes  dur_new  \\\n",
       "56  ['Nina Dobrev, ', 'Paul Wesley, ', 'Ian Somerh...    318,383       43   \n",
       "61  ['Jesús Castro, ', 'Victoria White, ', 'Fabiol...        538       50   \n",
       "63  ['Ayesha Madon, ', 'James Majoos, ', 'Chloe Ha...      1,502       50   \n",
       "88  ['Barbara Bialowas, ', 'Tomasz Mandes', '| ', ...     89,071      114   \n",
       "90  ['James Cameron', '| ', '    Stars:', 'Leonard...  1,158,746      194   \n",
       "\n",
       "    year_start  votes_2  \n",
       "56        2009   318383  \n",
       "61        2022      538  \n",
       "63        2022     1502  \n",
       "88        2020    89071  \n",
       "90        1997  1158746  "
      ]
     },
     "execution_count": 26,
     "metadata": {},
     "output_type": "execute_result"
    }
   ],
   "source": [
    "love = data[data['description'].str.contains('love')]\n",
    "love.head()"
   ]
  },
  {
   "cell_type": "code",
   "execution_count": 27,
   "id": "e325554a",
   "metadata": {},
   "outputs": [
    {
     "data": {
      "text/html": [
       "<div>\n",
       "<style scoped>\n",
       "    .dataframe tbody tr th:only-of-type {\n",
       "        vertical-align: middle;\n",
       "    }\n",
       "\n",
       "    .dataframe tbody tr th {\n",
       "        vertical-align: top;\n",
       "    }\n",
       "\n",
       "    .dataframe thead th {\n",
       "        text-align: right;\n",
       "    }\n",
       "</style>\n",
       "<table border=\"1\" class=\"dataframe\">\n",
       "  <thead>\n",
       "    <tr style=\"text-align: right;\">\n",
       "      <th></th>\n",
       "      <th>title</th>\n",
       "      <th>year</th>\n",
       "      <th>certificate</th>\n",
       "      <th>duration</th>\n",
       "      <th>genre</th>\n",
       "      <th>rating</th>\n",
       "      <th>description</th>\n",
       "      <th>stars</th>\n",
       "      <th>votes</th>\n",
       "      <th>dur_new</th>\n",
       "      <th>year_start</th>\n",
       "      <th>votes_2</th>\n",
       "    </tr>\n",
       "  </thead>\n",
       "  <tbody>\n",
       "    <tr>\n",
       "      <th>6530</th>\n",
       "      <td>Dexter</td>\n",
       "      <td>(2006–2013)</td>\n",
       "      <td>TV-MA</td>\n",
       "      <td>56 min</td>\n",
       "      <td>Crime, Drama, Mystery</td>\n",
       "      <td>9.6</td>\n",
       "      <td>In the Season One finale, Dexter follows the c...</td>\n",
       "      <td>['Michael Cuesta', '| ', '    Stars:', 'Michae...</td>\n",
       "      <td>10,604</td>\n",
       "      <td>56</td>\n",
       "      <td>2006</td>\n",
       "      <td>10604</td>\n",
       "    </tr>\n",
       "  </tbody>\n",
       "</table>\n",
       "</div>"
      ],
      "text/plain": [
       "       title         year certificate duration                  genre  rating  \\\n",
       "6530  Dexter  (2006–2013)       TV-MA   56 min  Crime, Drama, Mystery     9.6   \n",
       "\n",
       "                                            description  \\\n",
       "6530  In the Season One finale, Dexter follows the c...   \n",
       "\n",
       "                                                  stars   votes  dur_new  \\\n",
       "6530  ['Michael Cuesta', '| ', '    Stars:', 'Michae...  10,604       56   \n",
       "\n",
       "      year_start  votes_2  \n",
       "6530        2006    10604  "
      ]
     },
     "execution_count": 27,
     "metadata": {},
     "output_type": "execute_result"
    }
   ],
   "source": [
    "love[love['rating'] == max(love['rating'])]"
   ]
  },
  {
   "cell_type": "code",
   "execution_count": 28,
   "id": "50773d88",
   "metadata": {},
   "outputs": [
    {
     "data": {
      "text/html": [
       "<div>\n",
       "<style scoped>\n",
       "    .dataframe tbody tr th:only-of-type {\n",
       "        vertical-align: middle;\n",
       "    }\n",
       "\n",
       "    .dataframe tbody tr th {\n",
       "        vertical-align: top;\n",
       "    }\n",
       "\n",
       "    .dataframe thead th {\n",
       "        text-align: right;\n",
       "    }\n",
       "</style>\n",
       "<table border=\"1\" class=\"dataframe\">\n",
       "  <thead>\n",
       "    <tr style=\"text-align: right;\">\n",
       "      <th></th>\n",
       "      <th>title</th>\n",
       "      <th>year</th>\n",
       "      <th>certificate</th>\n",
       "      <th>duration</th>\n",
       "      <th>genre</th>\n",
       "      <th>rating</th>\n",
       "      <th>description</th>\n",
       "      <th>stars</th>\n",
       "      <th>votes</th>\n",
       "      <th>dur_new</th>\n",
       "      <th>year_start</th>\n",
       "      <th>votes_2</th>\n",
       "    </tr>\n",
       "  </thead>\n",
       "  <tbody>\n",
       "    <tr>\n",
       "      <th>90</th>\n",
       "      <td>Titanic</td>\n",
       "      <td>(1997)</td>\n",
       "      <td>PG-13</td>\n",
       "      <td>194 min</td>\n",
       "      <td>Drama, Romance</td>\n",
       "      <td>7.9</td>\n",
       "      <td>A seventeen-year-old aristocrat falls in love ...</td>\n",
       "      <td>['James Cameron', '| ', '    Stars:', 'Leonard...</td>\n",
       "      <td>1,158,746</td>\n",
       "      <td>194</td>\n",
       "      <td>1997</td>\n",
       "      <td>1158746</td>\n",
       "    </tr>\n",
       "  </tbody>\n",
       "</table>\n",
       "</div>"
      ],
      "text/plain": [
       "      title    year certificate duration           genre  rating  \\\n",
       "90  Titanic  (1997)       PG-13  194 min  Drama, Romance     7.9   \n",
       "\n",
       "                                          description  \\\n",
       "90  A seventeen-year-old aristocrat falls in love ...   \n",
       "\n",
       "                                                stars      votes  dur_new  \\\n",
       "90  ['James Cameron', '| ', '    Stars:', 'Leonard...  1,158,746      194   \n",
       "\n",
       "    year_start  votes_2  \n",
       "90        1997  1158746  "
      ]
     },
     "execution_count": 28,
     "metadata": {},
     "output_type": "execute_result"
    }
   ],
   "source": [
    "love[love['votes_2'] == max(love['votes_2'])]"
   ]
  },
  {
   "cell_type": "code",
   "execution_count": 29,
   "id": "23477879",
   "metadata": {},
   "outputs": [
    {
     "data": {
      "text/plain": [
       "0    2020\n",
       "Name: year_start, dtype: int64"
      ]
     },
     "execution_count": 29,
     "metadata": {},
     "output_type": "execute_result"
    }
   ],
   "source": [
    "love['year_start'].mode()"
   ]
  }
 ],
 "metadata": {
  "kernelspec": {
   "display_name": "Python 3 (ipykernel)",
   "language": "python",
   "name": "python3"
  },
  "language_info": {
   "codemirror_mode": {
    "name": "ipython",
    "version": 3
   },
   "file_extension": ".py",
   "mimetype": "text/x-python",
   "name": "python",
   "nbconvert_exporter": "python",
   "pygments_lexer": "ipython3",
   "version": "3.9.7"
  }
 },
 "nbformat": 4,
 "nbformat_minor": 5
}
