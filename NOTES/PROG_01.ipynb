{
 "cells": [
  {
   "cell_type": "markdown",
   "id": "e3986b4b",
   "metadata": {},
   "source": [
    "# Программирование на Python \n",
    "\n",
    "# Основные типы данных. Создание переменных. Основные ошибки.\n",
    "\n",
    "*Автор: Паршина Анастасия, НИУ ВШЭ (tg: @aaparshina)*\n",
    "\n",
    "## Содержание\n",
    "1. [Создание переменных и оператор присваивания](#par1)\n",
    "2. [Изменяемые (mutable) и неизменяемые (immutable) типы данных](#par2)\n",
    "3. [Типы данных — часть 1](#par3)\n",
    "    1. [Числа](#par3.1)\n",
    "    2. [Строки](#par3.2)\n",
    "    3. [Преобразование типов](#par3.3)\n",
    "4. [Немного об ошибках](#par4)\n",
    "5. [Дополнительные материалы](#parlast)"
   ]
  },
  {
   "cell_type": "markdown",
   "id": "0d23448d",
   "metadata": {},
   "source": [
    "## Создание переменных и оператор присваивания <a name=\"par1\"></a>\n",
    "\n",
    "Данные в Python представляют собой объекты и отношения между объектами. У каждого объекта есть свой индентификатор (id), тип и значение.\n",
    "\n",
    "<p style=\"text-align: center;\"><b>имя переменной = объект</b></p>\n",
    "\n",
    "Оператор присваивания (то есть наш знак `=`) запоминает за именем переменной идентификатор объекта. \n",
    "\n",
    "Например, создадим переменную `a`, которой присвоим значение `1`:"
   ]
  },
  {
   "cell_type": "code",
   "execution_count": 1,
   "id": "91e48047",
   "metadata": {},
   "outputs": [],
   "source": [
    "a = 1"
   ]
  },
  {
   "cell_type": "markdown",
   "id": "0a94bbfd",
   "metadata": {},
   "source": [
    "Сначала в памяти создается объект 1 и он, очевидно, имеет свой id:"
   ]
  },
  {
   "cell_type": "code",
   "execution_count": 2,
   "id": "0c07b043",
   "metadata": {},
   "outputs": [
    {
     "name": "stdout",
     "output_type": "stream",
     "text": [
      "140380200954160\n"
     ]
    }
   ],
   "source": [
    "print(id(1)) # у вас получится другое число (все ок, не переживаем)"
   ]
  },
  {
   "cell_type": "markdown",
   "id": "f1de994f",
   "metadata": {},
   "source": [
    "Этот же идентификатор запоминается за именем переменной: "
   ]
  },
  {
   "cell_type": "code",
   "execution_count": 3,
   "id": "ee743b23",
   "metadata": {},
   "outputs": [
    {
     "name": "stdout",
     "output_type": "stream",
     "text": [
      "140380200954160\n"
     ]
    }
   ],
   "source": [
    "print(id(a))"
   ]
  },
  {
   "cell_type": "markdown",
   "id": "f45e03fe",
   "metadata": {},
   "source": [
    "Если мы создадим новую переменную, например, `b`, которая <b>ссылается</b> на 1, то и у нее будет такой же id. "
   ]
  },
  {
   "cell_type": "code",
   "execution_count": 4,
   "id": "a8841d25",
   "metadata": {},
   "outputs": [
    {
     "name": "stdout",
     "output_type": "stream",
     "text": [
      "140380200954160\n"
     ]
    }
   ],
   "source": [
    "b = 1\n",
    "print(id(b))"
   ]
  },
  {
   "cell_type": "code",
   "execution_count": 5,
   "id": "3750e534",
   "metadata": {},
   "outputs": [
    {
     "name": "stdout",
     "output_type": "stream",
     "text": [
      "1 140380200954160\n",
      "2 140380200954192\n",
      "1 140380200954160\n"
     ]
    }
   ],
   "source": [
    "c = a           # переменная с ссылается на a, которая в свою очередь — на 1\n",
    "print(c, id(c)) \n",
    "\n",
    "a = 2           # перезапишем переменную а, теперь присвоим ей объект 2\n",
    "print(a, id(a)) # очевидно, что значение переменной а изменится, также как и id\n",
    "print(c, id(c)) # при этом это никак не повлияет на значение переменной с "
   ]
  },
  {
   "cell_type": "markdown",
   "id": "33e1d7c9",
   "metadata": {},
   "source": [
    "Приведем пример чуть сложнее — пусть у нас есть некий набор чисел (в такой записи это будет называться списком) и посмотрим на идентификатор первого его элемента (тоже 1). "
   ]
  },
  {
   "cell_type": "code",
   "execution_count": 6,
   "id": "b6f96dd3",
   "metadata": {},
   "outputs": [
    {
     "name": "stdout",
     "output_type": "stream",
     "text": [
      "140379939911232\n",
      "140380200954160\n"
     ]
    }
   ],
   "source": [
    "L = [1, 3, 4]\n",
    "print(id(L))\n",
    "print(id(L[0])) # снова такой же id, как у 1 (фактически L[0] и есть наша 1)"
   ]
  },
  {
   "cell_type": "markdown",
   "id": "d376c5ef",
   "metadata": {},
   "source": [
    "И пара слов о том, а какие имена переменных допустимы. Предположим, я хочу назвать переменную `1qwerty` — проверим, получится или нет:"
   ]
  },
  {
   "cell_type": "code",
   "execution_count": 7,
   "id": "8d667aa5",
   "metadata": {},
   "outputs": [
    {
     "ename": "SyntaxError",
     "evalue": "invalid syntax (271193151.py, line 1)",
     "output_type": "error",
     "traceback": [
      "\u001b[0;36m  Input \u001b[0;32mIn [7]\u001b[0;36m\u001b[0m\n\u001b[0;31m    1qwerty = 2\u001b[0m\n\u001b[0m     ^\u001b[0m\n\u001b[0;31mSyntaxError\u001b[0m\u001b[0;31m:\u001b[0m invalid syntax\n"
     ]
    }
   ],
   "source": [
    "1qwerty = 2"
   ]
  },
  {
   "cell_type": "markdown",
   "id": "c02d0342",
   "metadata": {},
   "source": [
    "Выдается ошибка `SyntaxError`, которая явно свидетельствует, что что-то с названием переменной не так. Но тогда, как можно называть переменные, а как нельзя? \n",
    "\n",
    "Переменные в  Python подчиняются следующим правилам:\n",
    "\n",
    "+ имя переменной может содержать только буквенно-цифровые символы и символы подчеркивания (A-Za-z, 0–9 и _)\n",
    "+ имя переменной <u>должно</u> начинаться с буквы или символа подчеркивания\n",
    "+ имя переменной <u>не может</u> начинаться с цифры\n",
    "+ в имени переменной <u>не должно</u> быть пробелов\n",
    "+ имя <u>не должно</u> совпадать со служебными (зарезервированными) словами в Python\n",
    "\n",
    "Список зарезервированных слов можно узнать так:"
   ]
  },
  {
   "cell_type": "code",
   "execution_count": null,
   "id": "952dcc10",
   "metadata": {},
   "outputs": [],
   "source": [
    "import keyword\n",
    "print(keyword.kwlist)"
   ]
  },
  {
   "cell_type": "markdown",
   "id": "d576d070",
   "metadata": {},
   "source": [
    "+ имена переменных чувствительны к регистру\n",
    "+ рекомендуется давать переменным осмысленные названия"
   ]
  },
  {
   "cell_type": "markdown",
   "id": "a2644c51",
   "metadata": {},
   "source": [
    "## Изменяемые (mutable) и неизменяемые (immutable) типы данных <a name=\"par2\"></a>"
   ]
  },
  {
   "cell_type": "markdown",
   "id": "b54e38d0",
   "metadata": {},
   "source": [
    "| Неизменяемые  | Изменяемые    | \n",
    "|:-------------:|:-------------:| \n",
    "| числа (`int`, `float`, `complex`)| список (`list`) | \n",
    "| логический тип (`bool`)      | словари (`dict`)      |  \n",
    "| кортеж (`tuple`) |множество (`set`)       |    \n",
    "| строка (`str`) |       |   \n",
    "| неизменяемое множество (`frozenset`) |       |  "
   ]
  },
  {
   "cell_type": "markdown",
   "id": "508b2a65",
   "metadata": {},
   "source": [
    "Да, у нас есть красивая табличка. Давайте попробуем доказать, например, что числа — действительно неизменяемый тип данных. "
   ]
  },
  {
   "cell_type": "code",
   "execution_count": null,
   "id": "20e9bd79",
   "metadata": {},
   "outputs": [],
   "source": [
    "X = 1           # пусть X ссылается на 1\n",
    "Y = X           # а Y ссылается на X, то есть тоже на 1\n",
    "print(X, id(X)) # собственно, тут ничего нового — \n",
    "print(Y, id(Y)) # id совпадают\n",
    "\n",
    "X += 1          # попробуем изменить X, добавив к переменной 1\n",
    "                # аналогично можно записать X = X + 1\n",
    "print(X, id(X)) # и, действительно, значение X увеличилось на 1\n",
    "print(Y, id(Y))"
   ]
  },
  {
   "cell_type": "markdown",
   "id": "0a249018",
   "metadata": {},
   "source": [
    "Вопрос — а что только что произошло? Фактически изменилось значение переменной. Но сам объект 1 никак не поменялся и изменить его мы не можем. Соответственно, все операторы (в данном примере это знак `+`), которые работают с числами, вернут нам новый объект, а не изменят уже имеющийся. \n",
    "\n",
    "Попробуйте аналогично разобраться, почему, например, объекты логического типа являются неизменяемыми? А строки?\n",
    "\n",
    "Проверим и изменяемые типы, например, списки."
   ]
  },
  {
   "cell_type": "code",
   "execution_count": null,
   "id": "7c9ba699",
   "metadata": {},
   "outputs": [],
   "source": [
    "X = [1, 2, 3]    # пусть X ссылается на объект [1, 2, 3]\n",
    "Y = X            # а Y ссылается на X\n",
    "print(X, id(X))  # снова id совпадают\n",
    "print(Y, id(Y))\n",
    "\n",
    "X.append(4)      # изменим наш объект (на который ссылается X) и добавим к нему 4\n",
    "\n",
    "print(X, id(X))  # очевидно, что значение объекта, на который ссылается X, изменилось\n",
    "print(Y, id(Y))  # но и значение объекта, на который ссылается Y, поменялось, \n",
    "                 # ведь метод .append() работает так, что меняет сам объект"
   ]
  },
  {
   "cell_type": "markdown",
   "id": "ab8407b1",
   "metadata": {},
   "source": [
    "Забегая чуть вперед, а что если я не хочу, чтобы значение переменной `Y` менялось? "
   ]
  },
  {
   "cell_type": "code",
   "execution_count": null,
   "id": "81325214",
   "metadata": {},
   "outputs": [],
   "source": [
    "X = [1, 2, 3]   # пусть X ссылается на объект [1, 2, 3]\n",
    "Y = X.copy()    # а Y сохраняет себе копию X (то есть тут буквально создается новый объект)\n",
    "print(X, id(X)) # соответственно и id получаются разные\n",
    "print(Y, id(Y))\n",
    "\n",
    "X.append(4)     # изменим наш объект (на который ссылается X) и добавим к нему 4\n",
    "\n",
    "print(X, id(X)) # объект, на который ссылается X, изменился\n",
    "print(Y, id(Y)) # но объект, на который ссылается Y, остался без изменений "
   ]
  },
  {
   "cell_type": "markdown",
   "id": "26680c6a",
   "metadata": {},
   "source": [
    "Сейчас это все воспринять тяжко, но возвращайтесь к этой информации на протяжении курса и освоения нового материала."
   ]
  },
  {
   "cell_type": "markdown",
   "id": "6df78561",
   "metadata": {},
   "source": [
    "## Типы данных — часть 1 <a name=\"par3\"></a>\n",
    "\n",
    "Части 2 и 3 будут в следующих конспектах. В этой же части мы посмотрим на числа и строки. "
   ]
  },
  {
   "cell_type": "markdown",
   "id": "aaf134e7",
   "metadata": {},
   "source": [
    "### Числа <a name=\"par3.1\"></a>"
   ]
  },
  {
   "cell_type": "markdown",
   "id": "ff93d458",
   "metadata": {},
   "source": [
    "Числа в Python делятся на три вида: \n",
    "\n",
    "1. `int` — только целые числа (например 1);\n",
    "2. `float` — вещественные числа / числа с плавающей точкой (например 1.8)\n",
    "3. `complex` — комплексные числа (например 3 + 9j)\n",
    "\n",
    "С целыми числами все понятно, выглядит это так: "
   ]
  },
  {
   "cell_type": "code",
   "execution_count": null,
   "id": "2fc65ee5",
   "metadata": {},
   "outputs": [],
   "source": [
    "print(type(1))\n",
    "\n",
    "a = -10\n",
    "print(type(a)) # применить функцию type() можно, как к самому объекту, так\n",
    "               # и к переменной, которая ссылается на объект"
   ]
  },
  {
   "cell_type": "markdown",
   "id": "4dd60384",
   "metadata": {},
   "source": [
    "Здесь мы обращаем внимание на `'int'`, то есть integer (целое число). Тип/класс определяет область допустимых значений объекта и набор операций над ним (например, целые числа можно складывать, умножать, делить и т.д.). "
   ]
  },
  {
   "cell_type": "markdown",
   "id": "d6e063b0",
   "metadata": {},
   "source": [
    "С вещественными числами все сложнее. Тип называется `float` aka число с плавающей точкой."
   ]
  },
  {
   "cell_type": "code",
   "execution_count": null,
   "id": "f51ddf7c",
   "metadata": {},
   "outputs": [],
   "source": [
    "print(type(1.2)) "
   ]
  },
  {
   "cell_type": "markdown",
   "id": "0720d6e2",
   "metadata": {},
   "source": [
    "Почему точка плавает?\n",
    "\n",
    "Посмотрим на число $2.25$. \n",
    "\n",
    "Его можно записать как $2.25$, как $0.225 \\cdot 10$, как $22.5 \\cdot 10^{-1}$, как $225 \\cdot 10^{-2}$. Точка, отделяющая дробную часть от целой, будет «плавать», однако само число при этом меняться не будет, будут меняться только множители — разные степени десятки.\n",
    "\n",
    "Также есть сложности, которые возникают при округлении чисел с плавающей точкой. Посмотрим на несколько примеров работы функции `round()`."
   ]
  },
  {
   "cell_type": "code",
   "execution_count": null,
   "id": "11f0868e",
   "metadata": {},
   "outputs": [],
   "source": [
    "print(round(1.5)) # все ок\n",
    "print(round(2.5)) # ой?\n",
    "print(round(3.5)) # все ок\n",
    "print(round(4.5)) # ой?"
   ]
  },
  {
   "cell_type": "markdown",
   "id": "458c3456",
   "metadata": {},
   "source": [
    "Может быть, функция всегда округляет только до четного числа?"
   ]
  },
  {
   "cell_type": "code",
   "execution_count": null,
   "id": "b44a6723",
   "metadata": {},
   "outputs": [],
   "source": [
    "print(round(1.49)) # все ок\n",
    "print(round(4.51)) # все ок"
   ]
  },
  {
   "cell_type": "markdown",
   "id": "9a8549c3",
   "metadata": {},
   "source": [
    "Нет, все работает... Так происходит округление числа до целого, которое расположено ближе всего. Но если дробная часть равна `0.5`, то функция округляет до ближайшего четного значения.\n",
    "\n",
    "Но это еще не все странности..."
   ]
  },
  {
   "cell_type": "code",
   "execution_count": null,
   "id": "6db257fa",
   "metadata": {},
   "outputs": [],
   "source": [
    "round(3.525, 2) # не 3.53"
   ]
  },
  {
   "cell_type": "markdown",
   "id": "4bb368b1",
   "metadata": {},
   "source": [
    "Эти странности связаны с тем, что число, которое мы видим (например, 3.525), не совпадает с тем, которое хранится в компьютере, потому что оно при сохранении преобразовывается и превращается из точного 3.525 в такое:"
   ]
  },
  {
   "cell_type": "code",
   "execution_count": null,
   "id": "d90a0248",
   "metadata": {},
   "outputs": [],
   "source": [
    "from decimal import Decimal\n",
    "Decimal(3.525)"
   ]
  },
  {
   "cell_type": "markdown",
   "id": "6281842d",
   "metadata": {},
   "source": [
    "И такое число будет законно округляться до 3.52 по правилам арифметического округления. В прикладном анализе данных такие сложности редко вызывают проблемы, но знать про нее полезно, чтобы не пугаться и не удивляться неожиданным результатам. Кроме того, полезно помнить, что числа с плавающей точкой (типа `float`) не рекомендуется использовать в финансовых вычислениях и вообще в вычислениях, требующих высокой точности, поскольку они «накапливают ошибку», то есть дают неточные результаты."
   ]
  },
  {
   "cell_type": "markdown",
   "id": "6a4902bf",
   "metadata": {},
   "source": [
    "С комплексными числами еще сложнее (возможно, кто-то помнит их еще со школы и тут содрогается). Используются они, в основном, в физике, квантовой механике... в общем, здесь мы сильно не будем акцентировать на них внимание, однако если вдруг встретите что-то такое `4 + 3j` — не пугайтесь."
   ]
  },
  {
   "cell_type": "code",
   "execution_count": 12,
   "id": "9bbf9d33",
   "metadata": {},
   "outputs": [
    {
     "name": "stdout",
     "output_type": "stream",
     "text": [
      "<class 'complex'>\n"
     ]
    }
   ],
   "source": [
    "print(type(4 + 3j))"
   ]
  },
  {
   "cell_type": "markdown",
   "id": "10bca9f4",
   "metadata": {},
   "source": [
    "В экзамене их не будет, выдохните. "
   ]
  },
  {
   "cell_type": "markdown",
   "id": "e1a0a7d2",
   "metadata": {},
   "source": [
    "### Строки <a name=\"par3.2\"></a>"
   ]
  },
  {
   "cell_type": "markdown",
   "id": "8cfa885f",
   "metadata": {},
   "source": [
    "Тут все проще. \n",
    "\n",
    "Текстовый тип данных обязательно заключается в кавычки.\n",
    "\n",
    "Python понимает и одинарные, и двойные кавычки. Главное правило: не закрывать одинарные кавычки двойными, и наоборот. Двойные кавычки закрывают двойные, одинарные — одинарные. "
   ]
  },
  {
   "cell_type": "code",
   "execution_count": 16,
   "id": "bcf12b6d",
   "metadata": {},
   "outputs": [
    {
     "name": "stdout",
     "output_type": "stream",
     "text": [
      "<class 'str'>\n"
     ]
    }
   ],
   "source": [
    "print(type('qwerty'))"
   ]
  },
  {
   "cell_type": "markdown",
   "id": "3ad3dbcb",
   "metadata": {},
   "source": [
    "Этот тип данных выдает нам функция `input()`, которая позволяет запрашивать данные с клавиатуры:"
   ]
  },
  {
   "cell_type": "code",
   "execution_count": 22,
   "id": "84357df6",
   "metadata": {},
   "outputs": [
    {
     "name": "stdout",
     "output_type": "stream",
     "text": [
      "Анастасия\n",
      "Анастасия <class 'str'>\n"
     ]
    }
   ],
   "source": [
    "name = input()\n",
    "print(name, type(name))"
   ]
  },
  {
   "cell_type": "markdown",
   "id": "0f568898",
   "metadata": {},
   "source": [
    "### Преобразование типов <a name=\"par3.3\"></a>"
   ]
  },
  {
   "cell_type": "markdown",
   "id": "2d229f57",
   "metadata": {},
   "source": [
    "Функции для изменения типа переменных называются так же, как и сами типы. В целом, на этом можно закончить, но приведем парочку примеров."
   ]
  },
  {
   "cell_type": "code",
   "execution_count": 23,
   "id": "f56ba185",
   "metadata": {},
   "outputs": [
    {
     "name": "stdout",
     "output_type": "stream",
     "text": [
      "23 <class 'str'>\n",
      "23 <class 'int'>\n"
     ]
    }
   ],
   "source": [
    "n = '2300'\n",
    "print(n, type(n))\n",
    "\n",
    "n = int(n)\n",
    "print(n, type(n))"
   ]
  },
  {
   "cell_type": "markdown",
   "id": "5a1f3d3c",
   "metadata": {},
   "source": [
    "Вот вроде бы в обоих случаях напечаталось 2300. Но в первом случае это текст, а во втором — целое число. Разница в том, какие операции нам доступны в обоих случаях. \n",
    "\n",
    "Предположим, что `'2300'` — это цена. Если это текст, то мы не сможем применить к нему никакие арифметические операции (проверьте сами или посмотрите следующий раздел про ошибки). Если же мы будем работать с целым числом, то сможем произвести любую арифметическую операцию (если речь все еще про цену на товар, то, например, посчитать скидку или кэшбэк). "
   ]
  },
  {
   "cell_type": "markdown",
   "id": "2b88ef54",
   "metadata": {},
   "source": [
    "## Немного об ошибках <a name=\"par4\"></a>\n",
    "\n",
    "Здесь будут разобраны ошибки, которые чаще всего вы можете встретить. Однако, это лишь небольшая их часть. Если столкнетесь с какой-то новой ошибкой — не стесняйтесь ее загуглить :)"
   ]
  },
  {
   "cell_type": "markdown",
   "id": "1e46687a",
   "metadata": {},
   "source": [
    "Помните, в начале конспекта у нас была переменная X? Попробуем ее напечатать:"
   ]
  },
  {
   "cell_type": "code",
   "execution_count": 10,
   "id": "ddad949a",
   "metadata": {},
   "outputs": [
    {
     "ename": "NameError",
     "evalue": "name 'x' is not defined",
     "output_type": "error",
     "traceback": [
      "\u001b[0;31m---------------------------------------------------------------------------\u001b[0m",
      "\u001b[0;31mNameError\u001b[0m                                 Traceback (most recent call last)",
      "Input \u001b[0;32mIn [10]\u001b[0m, in \u001b[0;36m<cell line: 1>\u001b[0;34m()\u001b[0m\n\u001b[0;32m----> 1\u001b[0m \u001b[38;5;28mprint\u001b[39m(\u001b[43mx\u001b[49m)\n",
      "\u001b[0;31mNameError\u001b[0m: name 'x' is not defined"
     ]
    }
   ],
   "source": [
    "print(x)"
   ]
  },
  {
   "cell_type": "markdown",
   "id": "6fe68d98",
   "metadata": {},
   "source": [
    "Ой, что-то пошло не так. Данна ошибка (`NameError`) буквально говорит нам, что такой переменной нет. \n",
    "\n",
    "Но ведь была же... \n",
    "\n",
    "Тут стоит вспомнить, что названия переменных чувствительны к регистру. Мы создавали переменную `X`, а напечатать пытаемся `x`, которой и правда нет."
   ]
  },
  {
   "cell_type": "markdown",
   "id": "c1ecd724",
   "metadata": {},
   "source": [
    "Идем дальше. Предположим, у меня есть две переменных, которые я хочу сложить: "
   ]
  },
  {
   "cell_type": "code",
   "execution_count": 13,
   "id": "dc96c87b",
   "metadata": {},
   "outputs": [
    {
     "ename": "TypeError",
     "evalue": "unsupported operand type(s) for +: 'int' and 'str'",
     "output_type": "error",
     "traceback": [
      "\u001b[0;31m---------------------------------------------------------------------------\u001b[0m",
      "\u001b[0;31mTypeError\u001b[0m                                 Traceback (most recent call last)",
      "Input \u001b[0;32mIn [13]\u001b[0m, in \u001b[0;36m<cell line: 4>\u001b[0;34m()\u001b[0m\n\u001b[1;32m      1\u001b[0m a \u001b[38;5;241m=\u001b[39m \u001b[38;5;241m2\u001b[39m\n\u001b[1;32m      2\u001b[0m b \u001b[38;5;241m=\u001b[39m \u001b[38;5;124m'\u001b[39m\u001b[38;5;124m3\u001b[39m\u001b[38;5;124m'\u001b[39m\n\u001b[0;32m----> 4\u001b[0m \u001b[38;5;28mprint\u001b[39m(\u001b[43ma\u001b[49m\u001b[43m \u001b[49m\u001b[38;5;241;43m+\u001b[39;49m\u001b[43m \u001b[49m\u001b[43mb\u001b[49m)\n",
      "\u001b[0;31mTypeError\u001b[0m: unsupported operand type(s) for +: 'int' and 'str'"
     ]
    }
   ],
   "source": [
    "a = 2\n",
    "b = '3'\n",
    "\n",
    "print(a + b)"
   ]
  },
  {
   "cell_type": "markdown",
   "id": "0719b82d",
   "metadata": {},
   "source": [
    "Переменная `a` — это целое число, а переменная `b` — строка. Когда мы буквально пытаемся сложить число и текст, то программа ругается и не понимает, что от нее хотят. \n",
    "\n",
    "К слову, если поменять порядок переменных, то тип ошибки (`TypeError`) не поменяется, но будет другое пояснение. Подумайте, почему так происходит."
   ]
  },
  {
   "cell_type": "code",
   "execution_count": 14,
   "id": "be9bbaac",
   "metadata": {},
   "outputs": [
    {
     "ename": "TypeError",
     "evalue": "can only concatenate str (not \"int\") to str",
     "output_type": "error",
     "traceback": [
      "\u001b[0;31m---------------------------------------------------------------------------\u001b[0m",
      "\u001b[0;31mTypeError\u001b[0m                                 Traceback (most recent call last)",
      "Input \u001b[0;32mIn [14]\u001b[0m, in \u001b[0;36m<cell line: 1>\u001b[0;34m()\u001b[0m\n\u001b[0;32m----> 1\u001b[0m \u001b[38;5;28mprint\u001b[39m(\u001b[43mb\u001b[49m\u001b[43m \u001b[49m\u001b[38;5;241;43m+\u001b[39;49m\u001b[43m \u001b[49m\u001b[43ma\u001b[49m)\n",
      "\u001b[0;31mTypeError\u001b[0m: can only concatenate str (not \"int\") to str"
     ]
    }
   ],
   "source": [
    "print(b + a)"
   ]
  },
  {
   "cell_type": "markdown",
   "id": "ea0654f1",
   "metadata": {},
   "source": [
    "И последнее на сегодня. Предположим, что у нас есть строка `'1,23'` — вроде бы десятичная дробь, но провести никакие арифметические операции мы с ней не можем. Значит, нужно попробовать эту строку преобразовать в тип `float`."
   ]
  },
  {
   "cell_type": "code",
   "execution_count": 17,
   "id": "5c6f2586",
   "metadata": {},
   "outputs": [
    {
     "ename": "ValueError",
     "evalue": "could not convert string to float: '1,23'",
     "output_type": "error",
     "traceback": [
      "\u001b[0;31m---------------------------------------------------------------------------\u001b[0m",
      "\u001b[0;31mValueError\u001b[0m                                Traceback (most recent call last)",
      "Input \u001b[0;32mIn [17]\u001b[0m, in \u001b[0;36m<cell line: 1>\u001b[0;34m()\u001b[0m\n\u001b[0;32m----> 1\u001b[0m \u001b[38;5;28;43mfloat\u001b[39;49m\u001b[43m(\u001b[49m\u001b[38;5;124;43m'\u001b[39;49m\u001b[38;5;124;43m1,23\u001b[39;49m\u001b[38;5;124;43m'\u001b[39;49m\u001b[43m)\u001b[49m\n",
      "\u001b[0;31mValueError\u001b[0m: could not convert string to float: '1,23'"
     ]
    }
   ],
   "source": [
    "float('1,23')"
   ]
  },
  {
   "cell_type": "markdown",
   "id": "793c1ea2",
   "metadata": {},
   "source": [
    "Ошибка `ValueError` возникает из-за запятой в строке — функция `float` не понимает, как можно запятую преобразовать в число."
   ]
  },
  {
   "cell_type": "code",
   "execution_count": 18,
   "id": "06f241c8",
   "metadata": {},
   "outputs": [
    {
     "data": {
      "text/plain": [
       "1.23"
      ]
     },
     "execution_count": 18,
     "metadata": {},
     "output_type": "execute_result"
    }
   ],
   "source": [
    "float('1.23')"
   ]
  },
  {
   "cell_type": "markdown",
   "id": "53fb700d",
   "metadata": {},
   "source": [
    "И теперь точно последнее. Предположим, у нас есть строка `'qwerty'` и мы хотим обратиться к последнему ее элементу — шестой букве `'y'`."
   ]
  },
  {
   "cell_type": "code",
   "execution_count": 19,
   "id": "0d5e6e45",
   "metadata": {},
   "outputs": [
    {
     "ename": "IndexError",
     "evalue": "string index out of range",
     "output_type": "error",
     "traceback": [
      "\u001b[0;31m---------------------------------------------------------------------------\u001b[0m",
      "\u001b[0;31mIndexError\u001b[0m                                Traceback (most recent call last)",
      "Input \u001b[0;32mIn [19]\u001b[0m, in \u001b[0;36m<cell line: 1>\u001b[0;34m()\u001b[0m\n\u001b[0;32m----> 1\u001b[0m \u001b[38;5;28mprint\u001b[39m(\u001b[38;5;124;43m'\u001b[39;49m\u001b[38;5;124;43mqwerty\u001b[39;49m\u001b[38;5;124;43m'\u001b[39;49m\u001b[43m[\u001b[49m\u001b[38;5;241;43m6\u001b[39;49m\u001b[43m]\u001b[49m)\n",
      "\u001b[0;31mIndexError\u001b[0m: string index out of range"
     ]
    }
   ],
   "source": [
    "print('qwerty'[6])"
   ]
  },
  {
   "cell_type": "markdown",
   "id": "25d73aee",
   "metadata": {},
   "source": [
    "Ошибка `IndexError` показывает, что элемента с таким индексом в строке нет. Это связано с тем, что индексация в Python начинается с нуля, значит, нам здесь нужен индекс `5` (или `-1`, т.е. первый элемент с конца)."
   ]
  },
  {
   "cell_type": "code",
   "execution_count": 20,
   "id": "2e691f27",
   "metadata": {},
   "outputs": [
    {
     "name": "stdout",
     "output_type": "stream",
     "text": [
      "y\n",
      "y\n"
     ]
    }
   ],
   "source": [
    "print('qwerty'[5])\n",
    "print('qwerty'[-1])"
   ]
  },
  {
   "cell_type": "markdown",
   "id": "e2ac947e",
   "metadata": {},
   "source": [
    "## Дополнительные материалы <a name=\"parlast\"></a>\n",
    "\n",
    "+ Документация Python [Built-in Types](https://docs.python.org/3/library/stdtypes.html)\n",
    "+ Курс на платформе Stepik «Python: основы и применение» ([ссылка на курс](https://stepik.org/course/512/syllabus))\n",
    "+ Щуров И.В., Тамбовцева А.А., Жучкова С.В. —  курс «Основы программирования в Python» ([ссылка на курс](https://allatambov.github.io/pypolit/pypolit.html))\n",
    "+ М. Лутц. «Изучаем Python 3», Часть II. Типы и операции.\n",
    "+ Как работают числа с плавающей точкой? [YouTube](https://www.youtube.com/watch?v=U0U8Ddx4TgE)"
   ]
  }
 ],
 "metadata": {
  "kernelspec": {
   "display_name": "Python 3 (ipykernel)",
   "language": "python",
   "name": "python3"
  },
  "language_info": {
   "codemirror_mode": {
    "name": "ipython",
    "version": 3
   },
   "file_extension": ".py",
   "mimetype": "text/x-python",
   "name": "python",
   "nbconvert_exporter": "python",
   "pygments_lexer": "ipython3",
   "version": "3.9.7"
  }
 },
 "nbformat": 4,
 "nbformat_minor": 5
}
